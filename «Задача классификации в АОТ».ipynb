{
 "cells": [
  {
   "cell_type": "markdown",
   "metadata": {},
   "source": [
    "# Домашнее задание по обработке текстов\n",
    "\n",
    "## Предсказание цены акции по экономическим новостям\n",
    "\n",
    "Входные данные:\n",
    "* Новости о компании \"Газпром\", начиная с 2010 года\n",
    "* Стоимость акций компании \"Газпром\" на ММВБ, начиная с 2010 года\n",
    "    * цена открытия (Open)\n",
    "    * цена закрытия (ClosingPrice)\n",
    "    * максимальная цена за день (DailyHigh)\n",
    "    * минимальная цена за день (DailyLow) \n",
    "    * объем бумаг (VolumePcs)\n"
   ]
  },
  {
   "cell_type": "code",
   "execution_count": 1,
   "metadata": {},
   "outputs": [],
   "source": [
    "import numpy as np\n",
    "import re"
   ]
  },
  {
   "cell_type": "code",
   "execution_count": 2,
   "metadata": {
    "scrolled": true
   },
   "outputs": [
    {
     "data": {
      "text/html": [
       "<div>\n",
       "<style>\n",
       "    .dataframe thead tr:only-child th {\n",
       "        text-align: right;\n",
       "    }\n",
       "\n",
       "    .dataframe thead th {\n",
       "        text-align: left;\n",
       "    }\n",
       "\n",
       "    .dataframe tbody tr th {\n",
       "        vertical-align: top;\n",
       "    }\n",
       "</style>\n",
       "<table border=\"1\" class=\"dataframe\">\n",
       "  <thead>\n",
       "    <tr style=\"text-align: right;\">\n",
       "      <th></th>\n",
       "      <th>date</th>\n",
       "      <th>text</th>\n",
       "    </tr>\n",
       "  </thead>\n",
       "  <tbody>\n",
       "    <tr>\n",
       "      <th>0</th>\n",
       "      <td>09.11.2017</td>\n",
       "      <td>Компания рассчитывает на решение по газовому с...</td>\n",
       "    </tr>\n",
       "    <tr>\n",
       "      <th>1</th>\n",
       "      <td>08.11.2017</td>\n",
       "      <td>Как и предполагал “Ъ”, «Газпром», воспользова...</td>\n",
       "    </tr>\n",
       "    <tr>\n",
       "      <th>2</th>\n",
       "      <td>01.11.2017</td>\n",
       "      <td>Новая редакция американских санкций ставит по...</td>\n",
       "    </tr>\n",
       "    <tr>\n",
       "      <th>3</th>\n",
       "      <td>30.10.2017</td>\n",
       "      <td>Как стало известно “Ъ”, известный на рынке ри...</td>\n",
       "    </tr>\n",
       "    <tr>\n",
       "      <th>4</th>\n",
       "      <td>23.10.2017</td>\n",
       "      <td>НОВАТЭК, который через пять лет собирается за...</td>\n",
       "    </tr>\n",
       "  </tbody>\n",
       "</table>\n",
       "</div>"
      ],
      "text/plain": [
       "         date                                               text\n",
       "0  09.11.2017  Компания рассчитывает на решение по газовому с...\n",
       "1  08.11.2017   Как и предполагал “Ъ”, «Газпром», воспользова...\n",
       "2  01.11.2017   Новая редакция американских санкций ставит по...\n",
       "3  30.10.2017   Как стало известно “Ъ”, известный на рынке ри...\n",
       "4  23.10.2017   НОВАТЭК, который через пять лет собирается за..."
      ]
     },
     "execution_count": 2,
     "metadata": {},
     "output_type": "execute_result"
    }
   ],
   "source": [
    "import pandas as pd\n",
    "df = pd.read_csv('D:/Netology/ds2-fall-2017-master/5. NLP/5.4 Classification/Homework/texts.csv')\n",
    "df.head()"
   ]
  },
  {
   "cell_type": "code",
   "execution_count": 3,
   "metadata": {},
   "outputs": [
    {
     "data": {
      "text/html": [
       "<div>\n",
       "<style>\n",
       "    .dataframe thead tr:only-child th {\n",
       "        text-align: right;\n",
       "    }\n",
       "\n",
       "    .dataframe thead th {\n",
       "        text-align: left;\n",
       "    }\n",
       "\n",
       "    .dataframe tbody tr th {\n",
       "        vertical-align: top;\n",
       "    }\n",
       "</style>\n",
       "<table border=\"1\" class=\"dataframe\">\n",
       "  <thead>\n",
       "    <tr style=\"text-align: right;\">\n",
       "      <th></th>\n",
       "      <th>Date</th>\n",
       "      <th>Open</th>\n",
       "      <th>ClosingPrice</th>\n",
       "      <th>DailyHigh</th>\n",
       "      <th>DailyLow</th>\n",
       "      <th>VolumePcs</th>\n",
       "    </tr>\n",
       "  </thead>\n",
       "  <tbody>\n",
       "    <tr>\n",
       "      <th>0</th>\n",
       "      <td>08.12.2017</td>\n",
       "      <td>133.43</td>\n",
       "      <td>132.60</td>\n",
       "      <td>133.90</td>\n",
       "      <td>132.00</td>\n",
       "      <td>16037970</td>\n",
       "    </tr>\n",
       "    <tr>\n",
       "      <th>1</th>\n",
       "      <td>07.12.2017</td>\n",
       "      <td>133.70</td>\n",
       "      <td>133.02</td>\n",
       "      <td>133.87</td>\n",
       "      <td>132.81</td>\n",
       "      <td>18198430</td>\n",
       "    </tr>\n",
       "    <tr>\n",
       "      <th>2</th>\n",
       "      <td>06.12.2017</td>\n",
       "      <td>133.33</td>\n",
       "      <td>134.00</td>\n",
       "      <td>134.29</td>\n",
       "      <td>132.91</td>\n",
       "      <td>14641730</td>\n",
       "    </tr>\n",
       "    <tr>\n",
       "      <th>3</th>\n",
       "      <td>05.12.2017</td>\n",
       "      <td>133.48</td>\n",
       "      <td>133.65</td>\n",
       "      <td>133.99</td>\n",
       "      <td>132.78</td>\n",
       "      <td>12684800</td>\n",
       "    </tr>\n",
       "    <tr>\n",
       "      <th>4</th>\n",
       "      <td>04.12.2017</td>\n",
       "      <td>133.01</td>\n",
       "      <td>133.77</td>\n",
       "      <td>134.00</td>\n",
       "      <td>131.93</td>\n",
       "      <td>17818980</td>\n",
       "    </tr>\n",
       "  </tbody>\n",
       "</table>\n",
       "</div>"
      ],
      "text/plain": [
       "         Date    Open  ClosingPrice  DailyHigh  DailyLow  VolumePcs\n",
       "0  08.12.2017  133.43        132.60     133.90    132.00   16037970\n",
       "1  07.12.2017  133.70        133.02     133.87    132.81   18198430\n",
       "2  06.12.2017  133.33        134.00     134.29    132.91   14641730\n",
       "3  05.12.2017  133.48        133.65     133.99    132.78   12684800\n",
       "4  04.12.2017  133.01        133.77     134.00    131.93   17818980"
      ]
     },
     "execution_count": 3,
     "metadata": {},
     "output_type": "execute_result"
    }
   ],
   "source": [
    "pr_all = pd.read_csv('D:/Netology/ds2-fall-2017-master/5. NLP/5.4 Classification/Homework/gazprom_prices.csv', sep=';', decimal=',')\n",
    "pr_all.head(5)"
   ]
  },
  {
   "cell_type": "markdown",
   "metadata": {},
   "source": [
    "### Часть 1. Вводная\n",
    "\n",
    "Проведите предобработку текстов: если считаете нужным, выполните токенизацию, приведение к нижнему регистру, лемматизацию и/или стемминг. Ответьте на следующие вопросы:\n",
    "* Есть ли корреляция между средней длинной текста за день и ценой закрытия?\n",
    "* Есть ли корреляция между количеством упоминаний Алексея Миллера  и ценой закрытия? Учтите разные варианты написания имени.\n",
    "* Упоминаний какого газопровода в статьях больше: \n",
    "    * \"северный поток\"\n",
    "    * \"турецкий поток\"?\n",
    "* О каких санкциях пишут в статьях?"
   ]
  },
  {
   "cell_type": "code",
   "execution_count": 7,
   "metadata": {},
   "outputs": [],
   "source": [
    "pr_all.set_index('Date', inplace=True)"
   ]
  },
  {
   "cell_type": "code",
   "execution_count": 8,
   "metadata": {},
   "outputs": [],
   "source": [
    "df['Length'] = len(df['text'])"
   ]
  },
  {
   "cell_type": "code",
   "execution_count": null,
   "metadata": {
    "scrolled": true
   },
   "outputs": [
    {
     "name": "stderr",
     "output_type": "stream",
     "text": [
      "c:\\users\\олег\\anaconda3\\lib\\site-packages\\ipykernel\\__main__.py:2: SettingWithCopyWarning: \n",
      "A value is trying to be set on a copy of a slice from a DataFrame\n",
      "\n",
      "See the caveats in the documentation: http://pandas.pydata.org/pandas-docs/stable/indexing.html#indexing-view-versus-copy\n",
      "  from ipykernel import kernelapp as app\n"
     ]
    }
   ],
   "source": [
    "for i in range(1203):\n",
    "    df['Length'][i] = len(df['text'][i])"
   ]
  },
  {
   "cell_type": "code",
   "execution_count": 9,
   "metadata": {},
   "outputs": [],
   "source": [
    "days = df.groupby('date').mean()"
   ]
  },
  {
   "cell_type": "code",
   "execution_count": 10,
   "metadata": {},
   "outputs": [],
   "source": [
    "df1 = days.merge(pr_all, how='inner', left_index=True, right_index=True)"
   ]
  },
  {
   "cell_type": "markdown",
   "metadata": {},
   "source": [
    "1) Связь между средней длинной новостей и ценой закрытия"
   ]
  },
  {
   "cell_type": "code",
   "execution_count": 12,
   "metadata": {},
   "outputs": [],
   "source": [
    "from sklearn.linear_model import LinearRegression"
   ]
  },
  {
   "cell_type": "code",
   "execution_count": 13,
   "metadata": {},
   "outputs": [],
   "source": [
    "lr = LinearRegression()"
   ]
  },
  {
   "cell_type": "code",
   "execution_count": 12,
   "metadata": {
    "scrolled": false
   },
   "outputs": [],
   "source": [
    "length = np.array(df1['Length']).reshape(-1,1)\n",
    "close = np.array(df1['ClosingPrice']).reshape(-1,1)"
   ]
  },
  {
   "cell_type": "code",
   "execution_count": 14,
   "metadata": {},
   "outputs": [
    {
     "data": {
      "text/plain": [
       "LinearRegression(copy_X=True, fit_intercept=True, n_jobs=1, normalize=False)"
      ]
     },
     "execution_count": 14,
     "metadata": {},
     "output_type": "execute_result"
    }
   ],
   "source": [
    "lr.fit(length, close)"
   ]
  },
  {
   "cell_type": "code",
   "execution_count": 15,
   "metadata": {
    "scrolled": false
   },
   "outputs": [
    {
     "data": {
      "text/plain": [
       "0.00020046013825159026"
      ]
     },
     "execution_count": 15,
     "metadata": {},
     "output_type": "execute_result"
    }
   ],
   "source": [
    "lr.score(length, close)"
   ]
  },
  {
   "cell_type": "code",
   "execution_count": 60,
   "metadata": {},
   "outputs": [],
   "source": [
    "import seaborn as sns\n",
    "import matplotlib.pyplot as plt"
   ]
  },
  {
   "cell_type": "code",
   "execution_count": 17,
   "metadata": {},
   "outputs": [],
   "source": [
    "sns.jointplot(x='Length', y='ClosingPrice', data=df1, kind='scatter');"
   ]
  },
  {
   "cell_type": "code",
   "execution_count": 18,
   "metadata": {
    "scrolled": true
   },
   "outputs": [
    {
     "data": {
      "image/png": "[encoded data removed]",
      "text/plain": [
       "<matplotlib.figure.Figure at 0x1e37b563748>"
      ]
     },
     "metadata": {},
     "output_type": "display_data"
    }
   ],
   "source": [
    "plt.show()"
   ]
  },
  {
   "cell_type": "markdown",
   "metadata": {},
   "source": [
    "Исходя из очень маленького коэффициента R2 можно сделать вывод о том, что прямой связи между длинной текста за день и ценой закрытия нет. Визуально зависимость так же не заметна. Коэффициент корреляции Пирсона - 0.014."
   ]
  },
  {
   "cell_type": "markdown",
   "metadata": {},
   "source": [
    "2) Связь между количество упоминаний  Алексея Миллера и ценой закрытия"
   ]
  },
  {
   "cell_type": "code",
   "execution_count": 11,
   "metadata": {},
   "outputs": [],
   "source": [
    "test = df.text[0]"
   ]
  },
  {
   "cell_type": "code",
   "execution_count": 48,
   "metadata": {},
   "outputs": [
    {
     "name": "stdout",
     "output_type": "stream",
     "text": [
      "Wall time: 190 ms\n"
     ]
    }
   ],
   "source": [
    "%%time\n",
    "from pymorphy2 import MorphAnalyzer\n",
    "from nltk.tokenize import sent_tokenize\n",
    "from pymystem3 import Mystem\n"
   ]
  },
  {
   "cell_type": "code",
   "execution_count": 5,
   "metadata": {
    "scrolled": true
   },
   "outputs": [
    {
     "name": "stdout",
     "output_type": "stream",
     "text": [
      " как и предполагать “Ъ”, «газпром», воспользоваться жалоба иностранный партнер на налогообложение добычный проект в рф, смочь добиваться снижение налог на добыча полезный ископаемое (ндпи) для свой ачимовский залежи почти до уровень независимый производитель газ. этот льгота распространяться не только на сп «газпром» с OMV и Wintershall, но и на структура монополия, разрабатывать месторождение с запас от 1 трлн кубометр газ. по расчет “Ъ”, это приводить к то, что в 2018 год платеж по ндпи для «газпром» и его ачимовский сп снижаться на 2,8 млрд руб., из который 2,2 млрд руб. сэкономить сам монополия.\n",
      "\n"
     ]
    }
   ],
   "source": [
    "m = Mystem()\n",
    "lemmas2 = m.lemmatize(df.text[1])\n",
    "print(''.join(lemmas2))"
   ]
  },
  {
   "cell_type": "code",
   "execution_count": null,
   "metadata": {},
   "outputs": [],
   "source": [
    "lemmas = ''.join(m.lemmatize(df.text[0]))\n",
    "miller = re.findall(r'миллер', lemmas)\n",
    "alexmil = re.findall(r'алексей миллер', lemmas )\n",
    "quant = len(miller) + len(alexmil)\n",
    "total = [quant]"
   ]
  },
  {
   "cell_type": "code",
   "execution_count": 26,
   "metadata": {},
   "outputs": [
    {
     "name": "stdout",
     "output_type": "stream",
     "text": [
      "Wall time: 46min 6s\n"
     ]
    }
   ],
   "source": [
    "%%time\n",
    "for i in range(1, len(df1)):\n",
    "    lemmas = ''.join(m.lemmatize(df.text[i]))\n",
    "    miller = re.findall(r'миллер', lemmas)\n",
    "    alexmil = re.findall(r'алексей миллер', lemmas )\n",
    "    quant = len(miller) + len(alexmil)\n",
    "    total.append(quant)"
   ]
  },
  {
   "cell_type": "code",
   "execution_count": 36,
   "metadata": {},
   "outputs": [],
   "source": [
    "millers = pd.DataFrame(total)\n",
    "millers.columns = ['Miller']"
   ]
  },
  {
   "cell_type": "code",
   "execution_count": 47,
   "metadata": {},
   "outputs": [],
   "source": [
    "closerp = pd.DataFrame(df1['ClosingPrice'])"
   ]
  },
  {
   "cell_type": "code",
   "execution_count": 49,
   "metadata": {
    "scrolled": true
   },
   "outputs": [],
   "source": [
    "closerp['id'] = list(range(len(df1)))"
   ]
  },
  {
   "cell_type": "code",
   "execution_count": 52,
   "metadata": {},
   "outputs": [],
   "source": [
    "closerp.set_index('id', inplace=True)"
   ]
  },
  {
   "cell_type": "code",
   "execution_count": 56,
   "metadata": {},
   "outputs": [],
   "source": [
    "millers = millers.merge(closerp, left_index=True, right_index=True)"
   ]
  },
  {
   "cell_type": "code",
   "execution_count": 58,
   "metadata": {},
   "outputs": [
    {
     "data": {
      "text/html": [
       "<div>\n",
       "<style>\n",
       "    .dataframe thead tr:only-child th {\n",
       "        text-align: right;\n",
       "    }\n",
       "\n",
       "    .dataframe thead th {\n",
       "        text-align: left;\n",
       "    }\n",
       "\n",
       "    .dataframe tbody tr th {\n",
       "        vertical-align: top;\n",
       "    }\n",
       "</style>\n",
       "<table border=\"1\" class=\"dataframe\">\n",
       "  <thead>\n",
       "    <tr style=\"text-align: right;\">\n",
       "      <th></th>\n",
       "      <th>Miller</th>\n",
       "      <th>ClosingPrice</th>\n",
       "    </tr>\n",
       "  </thead>\n",
       "  <tbody>\n",
       "    <tr>\n",
       "      <th>0</th>\n",
       "      <td>0</td>\n",
       "      <td>189.85</td>\n",
       "    </tr>\n",
       "    <tr>\n",
       "      <th>1</th>\n",
       "      <td>0</td>\n",
       "      <td>204.91</td>\n",
       "    </tr>\n",
       "    <tr>\n",
       "      <th>2</th>\n",
       "      <td>0</td>\n",
       "      <td>185.54</td>\n",
       "    </tr>\n",
       "    <tr>\n",
       "      <th>3</th>\n",
       "      <td>0</td>\n",
       "      <td>142.41</td>\n",
       "    </tr>\n",
       "    <tr>\n",
       "      <th>4</th>\n",
       "      <td>0</td>\n",
       "      <td>133.90</td>\n",
       "    </tr>\n",
       "  </tbody>\n",
       "</table>\n",
       "</div>"
      ],
      "text/plain": [
       "   Miller  ClosingPrice\n",
       "0       0        189.85\n",
       "1       0        204.91\n",
       "2       0        185.54\n",
       "3       0        142.41\n",
       "4       0        133.90"
      ]
     },
     "execution_count": 58,
     "metadata": {},
     "output_type": "execute_result"
    }
   ],
   "source": [
    "millers.head()"
   ]
  },
  {
   "cell_type": "code",
   "execution_count": 63,
   "metadata": {
    "scrolled": true
   },
   "outputs": [
    {
     "data": {
      "image/png": "[encoded data removed]",
      "text/plain": [
       "<matplotlib.figure.Figure at 0x1e27b613da0>"
      ]
     },
     "metadata": {},
     "output_type": "display_data"
    }
   ],
   "source": [
    "sns.jointplot(x='Miller', y='ClosingPrice', data=millers, kind='scatter')\n",
    "plt.show(1)"
   ]
  },
  {
   "cell_type": "markdown",
   "metadata": {},
   "source": [
    "Также, как и в предыдущем случае, сложно отследить корреляцию между количеством упоминаний Алексея Миллера и ценой закрытия. Коэффициент корреляции Пирсона незначительно отличается от 0. "
   ]
  },
  {
   "cell_type": "markdown",
   "metadata": {},
   "source": [
    "3) Упоминания газопроводов \"северный поток\" и \"турецкий поток\". "
   ]
  },
  {
   "cell_type": "code",
   "execution_count": 79,
   "metadata": {},
   "outputs": [],
   "source": [
    "lemmas = ''.join(m.lemmatize(df.text[4]))"
   ]
  },
  {
   "cell_type": "code",
   "execution_count": 81,
   "metadata": {},
   "outputs": [],
   "source": [
    "test = '\"северный поток\"'"
   ]
  },
  {
   "cell_type": "code",
   "execution_count": 82,
   "metadata": {},
   "outputs": [],
   "source": [
    "lemmas = ''.join(m.lemmatize(test))"
   ]
  },
  {
   "cell_type": "code",
   "execution_count": 84,
   "metadata": {},
   "outputs": [],
   "source": [
    "north = re.findall(r'северный поток', lemmas)"
   ]
  },
  {
   "cell_type": "code",
   "execution_count": 20,
   "metadata": {},
   "outputs": [],
   "source": [
    "n += 1"
   ]
  },
  {
   "cell_type": "code",
   "execution_count": 21,
   "metadata": {},
   "outputs": [
    {
     "data": {
      "text/plain": [
       "2"
      ]
     },
     "execution_count": 21,
     "metadata": {},
     "output_type": "execute_result"
    }
   ],
   "source": [
    "n"
   ]
  },
  {
   "cell_type": "code",
   "execution_count": 29,
   "metadata": {},
   "outputs": [],
   "source": [
    "n = 0\n",
    "t = 0"
   ]
  },
  {
   "cell_type": "code",
   "execution_count": null,
   "metadata": {},
   "outputs": [],
   "source": [
    "len(df.text)"
   ]
  },
  {
   "cell_type": "code",
   "execution_count": 33,
   "metadata": {},
   "outputs": [
    {
     "data": {
      "text/plain": [
       "1203"
      ]
     },
     "execution_count": 33,
     "metadata": {},
     "output_type": "execute_result"
    }
   ],
   "source": [
    "len(df)"
   ]
  },
  {
   "cell_type": "code",
   "execution_count": 55,
   "metadata": {},
   "outputs": [
    {
     "name": "stdout",
     "output_type": "stream",
     "text": [
      "Количество упоминаний северного потока: 15\n",
      "Количество упоминаний турецкого потока: 39\n",
      "Wall time: 48min 40s\n"
     ]
    }
   ],
   "source": [
    "%%time\n",
    "n = 0\n",
    "t = 0\n",
    "\n",
    "for i in range(len(df)):\n",
    "    lemmas = ''.join(m.lemmatize(df.text[i]))\n",
    "    north = re.findall(r'северный поток', lemmas)\n",
    "    turk = re.findall(r'турецкий поток', lemmas)\n",
    "    \n",
    "    n += len(north)\n",
    "    t += len(turk)\n",
    "print('Количество упоминаний северного потока: {}'.format(n))\n",
    "print('Количество упоминаний турецкого потока: {}'.format(t))"
   ]
  },
  {
   "cell_type": "markdown",
   "metadata": {},
   "source": [
    "Количество упоминаний \"Турецкого потока\" заметно больше, чем \"Северного потока\""
   ]
  },
  {
   "cell_type": "markdown",
   "metadata": {},
   "source": [
    "## Часть 2. Классификационная\n",
    "Вам предстоит решить следующую задачу: по текстам новостей за день определить, вырастет или понизится цена закрытия.\n",
    "Для этого:\n",
    "* бинаризуйте признак \"цена закрытия\":  новый признак ClosingPrice_bin равен 1, если по сравнению со вчера цена не упала, и 0 – в обратном случаея;\n",
    "* составьте бучающее и тестовое множество: данные до начала 2016 года используются для обучения, данные с 2016 года и позже – для тестирования.\n",
    "\n",
    "Таким образом, в каждлый момент времени мы знаем: \n",
    "* ClosingPrice_bin – бинарый целевой признак\n",
    "* слова из статей, опубликованных в этот день – объясняющие признаки\n",
    "\n",
    "В этой части задания вам нужно сделать baseline алгоритм и попытаться его улучшить в следующей части. \n",
    "\n",
    "Используйте любой известный вам алгоритм классификации текстов для того, Используйте $tf-idf$ преобразование, сингулярное разложение, нормировку признакого пространства и любые другие техники обработки данных, которые вы считаете нужным. Используйте accuracy и F-measure для оценки качества классификации. Покажите, как  $tf-idf$ преобразование или сингулярное разложение или любая другая использованная вами техника влияет на качество классификации.\n",
    "Если у выбранного вами алгоритма есть гиперпараметры (например, $\\alpha$ в преобразовании Лапласа для метода наивного Байеса), покажите, как изменение гиперпараметра влияет на качество классификации."
   ]
  },
  {
   "cell_type": "code",
   "execution_count": 4,
   "metadata": {},
   "outputs": [],
   "source": [
    "df1 = df.merge(pr_all, how='inner', left_index=True, right_index=True)"
   ]
  },
  {
   "cell_type": "code",
   "execution_count": 5,
   "metadata": {},
   "outputs": [
    {
     "data": {
      "text/plain": [
       "(1203, 8)"
      ]
     },
     "execution_count": 5,
     "metadata": {},
     "output_type": "execute_result"
    }
   ],
   "source": [
    "df1.shape"
   ]
  },
  {
   "cell_type": "code",
   "execution_count": 6,
   "metadata": {},
   "outputs": [],
   "source": [
    "close = np.array(df1['ClosingPrice']).reshape(-1,1)"
   ]
  },
  {
   "cell_type": "code",
   "execution_count": 7,
   "metadata": {},
   "outputs": [
    {
     "data": {
      "text/plain": [
       "array([[ 132.6 ],\n",
       "       [ 133.02],\n",
       "       [ 134.  ],\n",
       "       ..., \n",
       "       [ 137.62],\n",
       "       [ 136.52],\n",
       "       [ 138.1 ]])"
      ]
     },
     "execution_count": 7,
     "metadata": {},
     "output_type": "execute_result"
    }
   ],
   "source": [
    "close"
   ]
  },
  {
   "cell_type": "code",
   "execution_count": 8,
   "metadata": {},
   "outputs": [],
   "source": [
    "ClosingPrice_bin = []\n",
    "numobs = close.shape[0]\n",
    "        \n",
    "for i in range(numobs-1):\n",
    "    if close[i+1][0] > close[i][0]:\n",
    "        ClosingPrice_bin.append(1)\n",
    "    else:\n",
    "        ClosingPrice_bin.append(0)\n",
    "ClosingPrice_bin = pd.DataFrame(ClosingPrice_bin, columns=['ClosingPrice_bin'])"
   ]
  },
  {
   "cell_type": "code",
   "execution_count": 9,
   "metadata": {},
   "outputs": [
    {
     "data": {
      "text/plain": [
       "(1202, 1)"
      ]
     },
     "execution_count": 9,
     "metadata": {},
     "output_type": "execute_result"
    }
   ],
   "source": [
    "ClosingPrice_bin.shape"
   ]
  },
  {
   "cell_type": "code",
   "execution_count": 10,
   "metadata": {
    "scrolled": true
   },
   "outputs": [
    {
     "data": {
      "text/plain": [
       "(1203, 2)"
      ]
     },
     "execution_count": 10,
     "metadata": {},
     "output_type": "execute_result"
    }
   ],
   "source": [
    "df.shape"
   ]
  },
  {
   "cell_type": "code",
   "execution_count": 11,
   "metadata": {},
   "outputs": [],
   "source": [
    "df.drop(df.index[-1:], inplace=True)"
   ]
  },
  {
   "cell_type": "code",
   "execution_count": 40,
   "metadata": {},
   "outputs": [
    {
     "data": {
      "text/html": [
       "<div>\n",
       "<style>\n",
       "    .dataframe thead tr:only-child th {\n",
       "        text-align: right;\n",
       "    }\n",
       "\n",
       "    .dataframe thead th {\n",
       "        text-align: left;\n",
       "    }\n",
       "\n",
       "    .dataframe tbody tr th {\n",
       "        vertical-align: top;\n",
       "    }\n",
       "</style>\n",
       "<table border=\"1\" class=\"dataframe\">\n",
       "  <thead>\n",
       "    <tr style=\"text-align: right;\">\n",
       "      <th></th>\n",
       "      <th>date</th>\n",
       "      <th>text</th>\n",
       "    </tr>\n",
       "  </thead>\n",
       "  <tbody>\n",
       "    <tr>\n",
       "      <th>0</th>\n",
       "      <td>09.11.2017</td>\n",
       "      <td>Компания рассчитывает на решение по газовому с...</td>\n",
       "    </tr>\n",
       "    <tr>\n",
       "      <th>1</th>\n",
       "      <td>08.11.2017</td>\n",
       "      <td>Как и предполагал “Ъ”, «Газпром», воспользова...</td>\n",
       "    </tr>\n",
       "    <tr>\n",
       "      <th>2</th>\n",
       "      <td>01.11.2017</td>\n",
       "      <td>Новая редакция американских санкций ставит по...</td>\n",
       "    </tr>\n",
       "    <tr>\n",
       "      <th>3</th>\n",
       "      <td>30.10.2017</td>\n",
       "      <td>Как стало известно “Ъ”, известный на рынке ри...</td>\n",
       "    </tr>\n",
       "    <tr>\n",
       "      <th>4</th>\n",
       "      <td>23.10.2017</td>\n",
       "      <td>НОВАТЭК, который через пять лет собирается за...</td>\n",
       "    </tr>\n",
       "  </tbody>\n",
       "</table>\n",
       "</div>"
      ],
      "text/plain": [
       "         date                                               text\n",
       "0  09.11.2017  Компания рассчитывает на решение по газовому с...\n",
       "1  08.11.2017   Как и предполагал “Ъ”, «Газпром», воспользова...\n",
       "2  01.11.2017   Новая редакция американских санкций ставит по...\n",
       "3  30.10.2017   Как стало известно “Ъ”, известный на рынке ри...\n",
       "4  23.10.2017   НОВАТЭК, который через пять лет собирается за..."
      ]
     },
     "execution_count": 40,
     "metadata": {},
     "output_type": "execute_result"
    }
   ],
   "source": [
    "df.head()"
   ]
  },
  {
   "cell_type": "code",
   "execution_count": 28,
   "metadata": {},
   "outputs": [],
   "source": [
    "import nltk"
   ]
  },
  {
   "cell_type": "code",
   "execution_count": null,
   "metadata": {},
   "outputs": [],
   "source": [
    "prog = re.compile('[А-Яа-я\\-]+')\n",
    "tokens = prog.findall(text.lower())"
   ]
  },
  {
   "cell_type": "code",
   "execution_count": 115,
   "metadata": {},
   "outputs": [],
   "source": [
    "df['text1'] = df.apply(lambda row: prog.findall(row['text'].lower()), axis=1)"
   ]
  },
  {
   "cell_type": "code",
   "execution_count": 42,
   "metadata": {},
   "outputs": [],
   "source": [
    "df['tokenized_sents'] = df.apply(lambda row: nltk.word_tokenize(row['text']), axis=1)"
   ]
  },
  {
   "cell_type": "code",
   "execution_count": 120,
   "metadata": {},
   "outputs": [],
   "source": [
    "tok1 = pd.Series(df['text1'][1])"
   ]
  },
  {
   "cell_type": "code",
   "execution_count": 117,
   "metadata": {},
   "outputs": [],
   "source": [
    "alltokens = pd.Series(df['text1'][0])"
   ]
  },
  {
   "cell_type": "code",
   "execution_count": 121,
   "metadata": {},
   "outputs": [
    {
     "data": {
      "text/plain": [
       "(145,)"
      ]
     },
     "execution_count": 121,
     "metadata": {},
     "output_type": "execute_result"
    }
   ],
   "source": [
    "fintoks = alltokens.append(tok1)\n",
    "fintoks.shape"
   ]
  },
  {
   "cell_type": "code",
   "execution_count": 124,
   "metadata": {},
   "outputs": [
    {
     "name": "stdout",
     "output_type": "stream",
     "text": [
      "58\n",
      "87\n"
     ]
    }
   ],
   "source": [
    "print(len(alltokens))\n",
    "print(len(tok1))"
   ]
  },
  {
   "cell_type": "code",
   "execution_count": 125,
   "metadata": {},
   "outputs": [],
   "source": [
    "for i in range(1, len(df)):\n",
    "    tok =  pd.Series(df['text1'][i])\n",
    "    alltokens = alltokens.append(tok)"
   ]
  },
  {
   "cell_type": "code",
   "execution_count": 126,
   "metadata": {},
   "outputs": [
    {
     "data": {
      "text/plain": [
       "116269"
      ]
     },
     "execution_count": 126,
     "metadata": {},
     "output_type": "execute_result"
    }
   ],
   "source": [
    "len(alltokens)"
   ]
  },
  {
   "cell_type": "code",
   "execution_count": 127,
   "metadata": {},
   "outputs": [],
   "source": [
    "tokens = list(alltokens)"
   ]
  },
  {
   "cell_type": "code",
   "execution_count": 91,
   "metadata": {},
   "outputs": [
    {
     "data": {
      "text/plain": [
       "152301"
      ]
     },
     "execution_count": 91,
     "metadata": {},
     "output_type": "execute_result"
    }
   ],
   "source": [
    "len(tokens)"
   ]
  },
  {
   "cell_type": "code",
   "execution_count": 100,
   "metadata": {},
   "outputs": [],
   "source": [
    "text = '«Карты, деньги, два ствола» культовый фильм Гая Ричи. Эта картина покорила сначала Британию, затем Америку, а потом и весь мир. Никому неизвестный режиссер Гай Ричи, у которого за плечами были только коротметражка «Трудное дело», дешевые рекламные ролики и клипы, создал шедевр на все времена. Это именно тот случай, когда и критики, и зрители в восторге. Здесь очень много черного юмора и насилия, но это и делает фильм таким какой он есть. Хотя он и не стал лидером проката, он собрал множество наград и стал классикой. Но вернемся в прошлое и перенесемся за океан. В 1994 году вышел фильм «Криминальное чтиво» Квентина Тарантино. По слухам, как-то его спросили — «Квентин, вам не кажется, что вы не сняли ничего лучше Криминального чтива?», на что он ответил — «А кто снял?». Нет, не снял, но снимет через четыре года. Молодой и талантливый режиссер Гай Ричи заставит заговорить о себе весь мир. Со своей картиной «Карты, деньги, два ствола» он не только встанет на один уровень со своим голливудским коллегой Квентином Тарантино и его фильмом «Криминальное чтиво», но и превзойдет его. Впрочем, здесь достаточно трудно утверждать чей фильм лучше, а чей хуже: оба этих фильма гениальны, однако свое предпочтение я все же отдам Гаю Ричи. А теперь, после того, как я похвалила режиссера, можно перейти к самой картине. О ней только и можно сказать что она невероятна. Именно такой и видится криминальный мир Лондона. Здесь есть все составляющие для хорошего кино. Все актеры подобраны идеально и стоят на своем месте. Стоит ли говорить, что после этого фильма Джейсон Стэйтем проснулся звездой. Кроме потрясающей режиссерской работы, здесь ещё и отличный сценарий, написанный так же Гаем Ричи. Все диалоги настолько хороши, что во время просмотра хочется взять бумагу и ручку и записать их. Так же к диалогам подобрано отличное музыкальное сопровождение. С первых минут фильм кажется ничем не примечательным, и думаешь почему же все считают его культовым. Но потом происходит что-то нереальное. Этот фильм настолько притягивает к себе, что оторваться просто невозможно, настолько интересно наблюдать, как сюжетные линии переплетаются между собой. После просмотра «Карты, деньги, два ствола», просто сидишь в оцепенении и думаешь «Черт возьми, что это было? И хочу ещё!» Безусловно, Гай Ричи создал культовое кино, которое хочется смотреть и пересматривать.'"
   ]
  },
  {
   "cell_type": "code",
   "execution_count": 109,
   "metadata": {},
   "outputs": [],
   "source": [
    "prog = re.compile('[А-Яа-я\\-]+')\n",
    "tokens = prog.findall(text.lower())"
   ]
  },
  {
   "cell_type": "code",
   "execution_count": 106,
   "metadata": {
    "scrolled": true
   },
   "outputs": [
    {
     "data": {
      "text/plain": [
       "list"
      ]
     },
     "execution_count": 106,
     "metadata": {},
     "output_type": "execute_result"
    }
   ],
   "source": [
    "type(tokens)"
   ]
  },
  {
   "cell_type": "code",
   "execution_count": 102,
   "metadata": {},
   "outputs": [
    {
     "data": {
      "text/plain": [
       "[('и', 22),\n",
       " ('что', 7),\n",
       " ('ричи', 6),\n",
       " ('не', 6),\n",
       " ('фильм', 6),\n",
       " ('все', 6),\n",
       " ('но', 5),\n",
       " ('он', 5),\n",
       " ('же', 4),\n",
       " ('а', 4)]"
      ]
     },
     "execution_count": 102,
     "metadata": {},
     "output_type": "execute_result"
    }
   ],
   "source": [
    "d1 = nltk.FreqDist(tokens) # частотный словарь для текста\n",
    "d1.most_common(10) # токен и кол-во его появлений в тексте"
   ]
  },
  {
   "cell_type": "code",
   "execution_count": 128,
   "metadata": {},
   "outputs": [],
   "source": [
    "freq_dist = nltk.FreqDist(tokens)"
   ]
  },
  {
   "cell_type": "code",
   "execution_count": 131,
   "metadata": {},
   "outputs": [],
   "source": [
    "rarenum = int(0.1 * len(tokens))"
   ]
  },
  {
   "cell_type": "code",
   "execution_count": 177,
   "metadata": {},
   "outputs": [],
   "source": [
    "rarewords = [i[0] for i in freq_dist.most_common() if i[1] < 5]"
   ]
  },
  {
   "cell_type": "code",
   "execution_count": 179,
   "metadata": {},
   "outputs": [
    {
     "data": {
      "text/plain": [
       "12700"
      ]
     },
     "execution_count": 179,
     "metadata": {},
     "output_type": "execute_result"
    }
   ],
   "source": [
    "len(rarewords)"
   ]
  },
  {
   "cell_type": "code",
   "execution_count": null,
   "metadata": {},
   "outputs": [],
   "source": []
  },
  {
   "cell_type": "code",
   "execution_count": 174,
   "metadata": {},
   "outputs": [
    {
     "data": {
      "text/plain": [
       "[('в', 5510),\n",
       " ('на', 3126),\n",
       " ('газпром', 2552),\n",
       " ('и', 2436),\n",
       " ('по', 1600),\n",
       " ('с', 1455),\n",
       " ('не', 1033),\n",
       " ('газа', 961),\n",
       " ('млрд', 906),\n",
       " ('что', 824),\n",
       " ('-', 792),\n",
       " ('компании', 703),\n",
       " ('за', 664),\n",
       " ('для', 610),\n",
       " ('о', 604),\n",
       " ('руб', 596),\n",
       " ('до', 595),\n",
       " ('газпрома', 556),\n",
       " ('но', 555),\n",
       " ('к', 497),\n",
       " ('г', 496),\n",
       " ('из', 486),\n",
       " ('может', 458),\n",
       " ('нефть', 449),\n",
       " ('от', 402),\n",
       " ('компания', 400),\n",
       " ('как', 384),\n",
       " ('млн', 373),\n",
       " ('нефти', 357),\n",
       " ('а', 336),\n",
       " ('будет', 332),\n",
       " ('года', 329),\n",
       " ('газ', 327),\n",
       " ('сообщил', 309),\n",
       " ('ъ', 299),\n",
       " ('у', 283),\n",
       " ('уже', 267),\n",
       " ('этом', 263),\n",
       " ('это', 258),\n",
       " ('оао', 256),\n",
       " ('он', 256),\n",
       " ('его', 255),\n",
       " ('россии', 245),\n",
       " ('об', 227),\n",
       " ('говорится', 210),\n",
       " ('году', 208),\n",
       " ('газпромбанк', 202),\n",
       " ('при', 201),\n",
       " ('российского', 195),\n",
       " ('сказал', 192),\n",
       " ('украины', 186),\n",
       " ('газпром-медиа', 179),\n",
       " ('кубометров', 179),\n",
       " ('более', 176),\n",
       " ('монополии', 175),\n",
       " ('поставок', 172),\n",
       " ('также', 171),\n",
       " ('из-за', 161),\n",
       " ('со', 160),\n",
       " ('поставки', 160),\n",
       " ('который', 159),\n",
       " ('пока', 159),\n",
       " ('правления', 158),\n",
       " ('спг', 154),\n",
       " ('рынке', 153),\n",
       " ('монополия', 153),\n",
       " ('заявил', 150),\n",
       " ('газопровода', 149),\n",
       " ('только', 149),\n",
       " ('роснефть', 149),\n",
       " ('еще', 149),\n",
       " ('год', 149),\n",
       " ('ее', 148),\n",
       " ('цены', 142),\n",
       " ('проекта', 141),\n",
       " ('месторождения', 139),\n",
       " ('акций', 138),\n",
       " ('проект', 138),\n",
       " ('могут', 137),\n",
       " ('после', 137),\n",
       " ('сообщении', 135),\n",
       " ('через', 128),\n",
       " ('директоров', 126),\n",
       " ('алексей', 126),\n",
       " ('александр', 122),\n",
       " ('м', 122),\n",
       " ('миллер', 121),\n",
       " ('которые', 119),\n",
       " ('данным', 119),\n",
       " ('газового', 119),\n",
       " ('планирует', 118),\n",
       " ('во', 117),\n",
       " ('газпрому', 116),\n",
       " ('российский', 116),\n",
       " ('европу', 115),\n",
       " ('том', 115),\n",
       " ('компаний', 115),\n",
       " ('холдинга', 113),\n",
       " ('переговоры', 113),\n",
       " ('если', 112),\n",
       " ('цен', 111),\n",
       " ('журналистам', 110),\n",
       " ('теперь', 110),\n",
       " ('куб', 109),\n",
       " ('сейчас', 109),\n",
       " ('решение', 108),\n",
       " ('около', 108),\n",
       " ('ооо', 107),\n",
       " ('время', 107),\n",
       " ('все', 105),\n",
       " ('сообщает', 105),\n",
       " ('роснефти', 105),\n",
       " ('эксперты', 104),\n",
       " ('прибыль', 104),\n",
       " ('мы', 104),\n",
       " ('лет', 103),\n",
       " ('ранее', 102),\n",
       " ('же', 100),\n",
       " ('этого', 100),\n",
       " ('под', 99),\n",
       " ('итогам', 98),\n",
       " ('чем', 98),\n",
       " ('их', 98),\n",
       " ('быть', 98),\n",
       " ('так', 98),\n",
       " ('экспорт', 94),\n",
       " ('которая', 94),\n",
       " ('сообщила', 94),\n",
       " ('холдинг', 92),\n",
       " ('рынка', 91),\n",
       " ('мнению', 90),\n",
       " ('стало', 88),\n",
       " ('фас', 88),\n",
       " ('ес', 86),\n",
       " ('словам', 85),\n",
       " ('стороны', 84),\n",
       " ('почти', 84),\n",
       " ('счет', 84),\n",
       " ('то', 83),\n",
       " ('страны', 83),\n",
       " ('нафтогаз', 82),\n",
       " ('однако', 82),\n",
       " ('которой', 81),\n",
       " ('против', 81),\n",
       " ('глава', 81),\n",
       " ('газовой', 81),\n",
       " ('концерна', 80),\n",
       " ('этот', 80),\n",
       " ('считают', 80),\n",
       " ('рамках', 79),\n",
       " ('европе', 79),\n",
       " ('известно', 78),\n",
       " ('она', 78),\n",
       " ('совет', 77),\n",
       " ('чтобы', 76),\n",
       " ('правительство', 75),\n",
       " ('они', 75),\n",
       " ('поток', 75),\n",
       " ('российской', 75),\n",
       " ('председатель', 74),\n",
       " ('сегодня', 74),\n",
       " ('вопрос', 73),\n",
       " ('контракт', 73),\n",
       " ('ссылкой', 73),\n",
       " ('возможность', 73),\n",
       " ('газпромом', 73),\n",
       " ('проектов', 73),\n",
       " ('получить', 73),\n",
       " ('того', 73),\n",
       " ('новатэк', 72),\n",
       " ('медведев', 72),\n",
       " ('новый', 72),\n",
       " ('украину', 72),\n",
       " ('экспорта', 72),\n",
       " ('долю', 72),\n",
       " ('источник', 72),\n",
       " ('стоимость', 72),\n",
       " ('российских', 71),\n",
       " ('следует', 71),\n",
       " ('объем', 70),\n",
       " ('сделки', 70),\n",
       " ('добычи', 70),\n",
       " ('есть', 70),\n",
       " ('числе', 70),\n",
       " ('российская', 70),\n",
       " ('или', 69),\n",
       " ('соглашение', 69),\n",
       " ('своих', 68),\n",
       " ('строительство', 67),\n",
       " ('готов', 67),\n",
       " ('природного', 67),\n",
       " ('строительства', 66),\n",
       " ('компанию', 65),\n",
       " ('свои', 65),\n",
       " ('россия', 65),\n",
       " ('будут', 64),\n",
       " ('активов', 64),\n",
       " ('сумму', 64),\n",
       " ('стать', 63),\n",
       " ('новых', 63),\n",
       " ('втб', 63),\n",
       " ('шельфе', 63),\n",
       " ('крупнейших', 62),\n",
       " ('области', 62),\n",
       " ('рост', 62),\n",
       " ('доли', 62),\n",
       " ('минэнерго', 61),\n",
       " ('добычу', 61),\n",
       " ('месторождение', 61),\n",
       " ('условия', 60),\n",
       " ('совета', 60),\n",
       " ('сибири', 60),\n",
       " ('конца', 60),\n",
       " ('тыс', 60),\n",
       " ('является', 60),\n",
       " ('результате', 60),\n",
       " ('квартале', 59),\n",
       " ('между', 59),\n",
       " ('цене', 59),\n",
       " ('собирается', 59),\n",
       " ('больше', 58),\n",
       " ('всего', 58),\n",
       " ('акционеров', 58),\n",
       " ('потребителей', 58),\n",
       " ('случае', 58),\n",
       " ('пятницу', 58),\n",
       " ('лишь', 58),\n",
       " ('хочет', 58),\n",
       " ('источники', 58),\n",
       " ('гендиректор', 57),\n",
       " ('переговоров', 57),\n",
       " ('июня', 57),\n",
       " ('рынок', 57),\n",
       " ('лукойл', 57),\n",
       " ('аналитики', 57),\n",
       " ('уровне', 57),\n",
       " ('один', 57),\n",
       " ('размере', 56),\n",
       " ('рф', 56),\n",
       " ('месторождений', 56),\n",
       " ('первый', 56),\n",
       " ('энергетики', 56),\n",
       " ('нпз', 56),\n",
       " ('было', 56),\n",
       " ('начала', 56),\n",
       " ('президент', 55),\n",
       " ('свою', 55),\n",
       " ('которых', 55),\n",
       " ('сп', 55),\n",
       " ('банка', 54),\n",
       " ('соглашения', 54),\n",
       " ('цена', 54),\n",
       " ('два', 54),\n",
       " ('двух', 54),\n",
       " ('российские', 53),\n",
       " ('сравнению', 53),\n",
       " ('новые', 53),\n",
       " ('министр', 53),\n",
       " ('суд', 52),\n",
       " ('впервые', 52),\n",
       " ('снижения', 52),\n",
       " ('объемы', 52),\n",
       " ('пор', 52),\n",
       " ('актив', 52),\n",
       " ('хотя', 51),\n",
       " ('других', 51),\n",
       " ('заместитель', 51),\n",
       " ('китай', 51),\n",
       " ('несколько', 51),\n",
       " ('была', 51),\n",
       " ('проекте', 51),\n",
       " ('тнт', 51),\n",
       " ('информации', 51),\n",
       " ('завода', 51),\n",
       " ('работы', 50),\n",
       " ('этой', 50),\n",
       " ('эти', 50),\n",
       " ('считает', 50),\n",
       " ('подписали', 50),\n",
       " ('него', 49),\n",
       " ('мсфо', 49),\n",
       " ('т', 49),\n",
       " ('которое', 49),\n",
       " ('которого', 49),\n",
       " ('интерфакс', 49),\n",
       " ('группы', 49),\n",
       " ('полностью', 48),\n",
       " ('несмотря', 48),\n",
       " ('бы', 48),\n",
       " ('часть', 48),\n",
       " ('условиях', 48),\n",
       " ('газовый', 48),\n",
       " ('москвы', 48),\n",
       " ('зао', 48),\n",
       " ('раз', 48),\n",
       " ('мощности', 48),\n",
       " ('реализации', 48),\n",
       " ('покупке', 47),\n",
       " ('период', 47),\n",
       " ('начале', 47),\n",
       " ('поставках', 47),\n",
       " ('продать', 47),\n",
       " ('участие', 47),\n",
       " ('рассказал', 47),\n",
       " ('роста', 47),\n",
       " ('власти', 47),\n",
       " ('нового', 47),\n",
       " ('украина', 47),\n",
       " ('выросла', 46),\n",
       " ('топлива', 46),\n",
       " ('был', 46),\n",
       " ('контракта', 46),\n",
       " ('ведет', 46),\n",
       " ('части', 46),\n",
       " ('сергей', 46),\n",
       " ('банк', 46),\n",
       " ('новатэка', 46),\n",
       " ('впрочем', 46),\n",
       " ('такой', 45),\n",
       " ('три', 45),\n",
       " ('тем', 45),\n",
       " ('долга', 45),\n",
       " ('представитель', 45),\n",
       " ('проекты', 45),\n",
       " ('октября', 45),\n",
       " ('сообщили', 45),\n",
       " ('нет', 45),\n",
       " ('них', 45),\n",
       " ('предправления', 44),\n",
       " ('примерно', 44),\n",
       " ('увеличить', 44),\n",
       " ('которому', 44),\n",
       " ('получит', 44),\n",
       " ('станет', 44),\n",
       " ('агентству', 44),\n",
       " ('управления', 44),\n",
       " ('свой', 44),\n",
       " ('сих', 44),\n",
       " ('южный', 43),\n",
       " ('огк-', 43),\n",
       " ('аналитиков', 43),\n",
       " ('прибыли', 43),\n",
       " ('даже', 43),\n",
       " ('нафтогаза', 43),\n",
       " ('прошлого', 42),\n",
       " ('президента', 42),\n",
       " ('владимир', 42),\n",
       " ('стройтрансгаз', 42),\n",
       " ('где', 42),\n",
       " ('таким', 42),\n",
       " ('второй', 42),\n",
       " ('евро', 42),\n",
       " ('сжиженного', 42),\n",
       " ('придется', 41),\n",
       " ('транзит', 41),\n",
       " ('сбербанк', 41),\n",
       " ('зампред', 41),\n",
       " ('были', 41),\n",
       " ('трлн', 41),\n",
       " ('менее', 41),\n",
       " ('месяцев', 41),\n",
       " ('ходе', 41),\n",
       " ('образом', 41),\n",
       " ('вчера', 41),\n",
       " ('разработке', 41),\n",
       " ('ниже', 40),\n",
       " ('российским', 40),\n",
       " ('нефтяной', 40),\n",
       " ('получил', 40),\n",
       " ('увеличил', 40),\n",
       " ('последние', 40),\n",
       " ('чистая', 40),\n",
       " ('сделка', 40),\n",
       " ('транзита', 40),\n",
       " ('санкций', 39),\n",
       " ('тимченко', 39),\n",
       " ('вторник', 39),\n",
       " ('сделку', 39),\n",
       " ('отчете', 39),\n",
       " ('назад', 39),\n",
       " ('без', 39),\n",
       " ('снизить', 39),\n",
       " ('первом', 39),\n",
       " ('должны', 39),\n",
       " ('развития', 38),\n",
       " ('инвестиций', 38),\n",
       " ('крупнейший', 38),\n",
       " ('тонн', 38),\n",
       " ('намерен', 38),\n",
       " ('владимира', 38),\n",
       " ('фоне', 38),\n",
       " ('сумма', 38),\n",
       " ('участия', 38),\n",
       " ('крупных', 37),\n",
       " ('предприятия', 37),\n",
       " ('европейских', 37),\n",
       " ('независимых', 37),\n",
       " ('эта', 37),\n",
       " ('среду', 37),\n",
       " ('подписал', 37),\n",
       " ('стране', 37),\n",
       " ('должна', 37),\n",
       " ('рассчитывает', 37),\n",
       " ('руководитель', 37),\n",
       " ('энергохолдинг', 37),\n",
       " ('составила', 37),\n",
       " ('европы', 37),\n",
       " ('территории', 36),\n",
       " ('тв', 36),\n",
       " ('стал', 36),\n",
       " ('сможет', 36),\n",
       " ('правительства', 36),\n",
       " ('эту', 36),\n",
       " ('ни', 36),\n",
       " ('своего', 36),\n",
       " ('продажи', 36),\n",
       " ('позволит', 36),\n",
       " ('дюков', 36),\n",
       " ('течение', 36),\n",
       " ('ему', 35),\n",
       " ('которым', 35),\n",
       " ('потока', 35),\n",
       " ('газовых', 35),\n",
       " ('тасс', 35),\n",
       " ('рао', 35),\n",
       " ('интерфаксу', 35),\n",
       " ('дивиденды', 35),\n",
       " ('вслед', 35),\n",
       " ('составляет', 35),\n",
       " ('одного', 35),\n",
       " ('гэх', 35),\n",
       " ('право', 35),\n",
       " ('активы', 34),\n",
       " ('минимум', 34),\n",
       " ('должен', 34),\n",
       " ('понедельник', 34),\n",
       " ('председателя', 34),\n",
       " ('газом', 34),\n",
       " ('июля', 34),\n",
       " ('очередной', 34),\n",
       " ('концерн', 34),\n",
       " ('пхг', 34),\n",
       " ('составит', 34),\n",
       " ('среди', 34),\n",
       " ('продолжает', 34),\n",
       " ('ожидает', 34),\n",
       " ('вместе', 33),\n",
       " ('четверг', 33),\n",
       " ('системы', 33),\n",
       " ('источников', 33),\n",
       " ('группа', 33),\n",
       " ('море', 33),\n",
       " ('инвестиции', 33),\n",
       " ('связи', 33),\n",
       " ('капитала', 33),\n",
       " ('рсбу', 33),\n",
       " ('строительстве', 33),\n",
       " ('департамента', 33),\n",
       " ('ли', 33),\n",
       " ('удалось', 33),\n",
       " ('отрасли', 33),\n",
       " ('частности', 33),\n",
       " ('закупки', 33),\n",
       " ('нак', 33),\n",
       " ('предложение', 33),\n",
       " ('когда', 33),\n",
       " ('планируется', 33),\n",
       " ('цену', 32),\n",
       " ('поставку', 32),\n",
       " ('конце', 32),\n",
       " ('мая', 32),\n",
       " ('позиции', 32),\n",
       " ('договориться', 32),\n",
       " ('своей', 32),\n",
       " ('экспертов', 32),\n",
       " ('завод', 32),\n",
       " ('деньги', 32),\n",
       " ('гендиректора', 32),\n",
       " ('первого', 32),\n",
       " ('сша', 32),\n",
       " ('решения', 32),\n",
       " ('суда', 32),\n",
       " ('прайм', 32),\n",
       " ('пресс-служба', 32),\n",
       " ('выйти', 32),\n",
       " ('уровня', 31),\n",
       " ('годовых', 31),\n",
       " ('меморандум', 31),\n",
       " ('раза', 31),\n",
       " ('отказаться', 31),\n",
       " ('основной', 31),\n",
       " ('начать', 31),\n",
       " ('путин', 31),\n",
       " ('всех', 31),\n",
       " ('агентства', 31),\n",
       " ('решил', 31),\n",
       " ('объемов', 31),\n",
       " ('пакет', 31),\n",
       " ('медиа', 31),\n",
       " ('главы', 31),\n",
       " ('перед', 31),\n",
       " ('резко', 31),\n",
       " ('над', 31),\n",
       " ('литвы', 31),\n",
       " ('пресс-конференции', 31),\n",
       " ('договорился', 31),\n",
       " ('активами', 30),\n",
       " ('договор', 30),\n",
       " ('газопровод', 30),\n",
       " ('программы', 30),\n",
       " ('долг', 30),\n",
       " ('пакета', 30),\n",
       " ('купить', 30),\n",
       " ('сила', 30),\n",
       " ('средств', 30),\n",
       " ('привлечь', 30),\n",
       " ('российском', 30),\n",
       " ('андрей', 30),\n",
       " ('такие', 30),\n",
       " ('интерес', 30),\n",
       " ('годы', 30),\n",
       " ('договорились', 30),\n",
       " ('речь', 30),\n",
       " ('готовы', 30),\n",
       " ('агентство', 30),\n",
       " ('добыча', 30),\n",
       " ('проекту', 30),\n",
       " ('выручка', 30),\n",
       " ('акционеры', 29),\n",
       " ('тогда', 29),\n",
       " ('компаниями', 29),\n",
       " ('полагают', 29),\n",
       " ('пао', 29),\n",
       " ('компанией', 29),\n",
       " ('производителей', 29),\n",
       " ('обмен', 29),\n",
       " ('интер', 29),\n",
       " ('итальянской', 29),\n",
       " ('учетом', 29),\n",
       " ('официально', 29),\n",
       " ('участка', 29),\n",
       " ('разработку', 29),\n",
       " ('две', 29),\n",
       " ('тнк-вр', 29),\n",
       " ('москве', 29),\n",
       " ('годом', 29),\n",
       " ('которую', 28),\n",
       " ('партнеров', 28),\n",
       " ('северэнергии', 28),\n",
       " ('другие', 28),\n",
       " ('нтв', 28),\n",
       " ('инвесторов', 28),\n",
       " ('трубы', 28),\n",
       " ('чистой', 28),\n",
       " ('проблемы', 28),\n",
       " ('сам', 28),\n",
       " ('готова', 28),\n",
       " ('региона', 28),\n",
       " ('поставлять', 28),\n",
       " ('дмитрий', 28),\n",
       " ('стала', 28),\n",
       " ('ей', 28),\n",
       " ('бирже', 28),\n",
       " ('условий', 28),\n",
       " ('дивидендов', 28),\n",
       " ('путина', 28),\n",
       " ('активно', 28),\n",
       " ('чистую', 28),\n",
       " ('этих', 28),\n",
       " ('покупку', 27),\n",
       " ('зарубежье', 27),\n",
       " ('объеме', 27),\n",
       " ('поставкам', 27),\n",
       " ('марта', 27),\n",
       " ('прошлом', 27),\n",
       " ('возможности', 27),\n",
       " ('требует', 27),\n",
       " ('киев', 27),\n",
       " ('трех', 27),\n",
       " ('служба', 27),\n",
       " ('основным', 27),\n",
       " ('ноября', 27),\n",
       " ('итоге', 27),\n",
       " ('говорят', 27),\n",
       " ('доля', 27),\n",
       " ('вместо', 27),\n",
       " ('алексея', 27),\n",
       " ('идет', 27),\n",
       " ('дополнительные', 27),\n",
       " ('труб', 27),\n",
       " ('выше', 27),\n",
       " ('неделе', 27),\n",
       " ('стали', 27),\n",
       " ('отношении', 27),\n",
       " ('полугодии', 27),\n",
       " ('передает', 27),\n",
       " ('срок', 27),\n",
       " ('договора', 27),\n",
       " ('настоящее', 27),\n",
       " ('структуры', 27),\n",
       " ('контроль', 27),\n",
       " ('предлагает', 27),\n",
       " ('газопроводу', 26),\n",
       " ('недели', 26),\n",
       " ('создать', 26),\n",
       " ('украине', 26),\n",
       " ('добиться', 26),\n",
       " ('построить', 26),\n",
       " ('доступ', 26),\n",
       " ('строительству', 26),\n",
       " ('предприятие', 26),\n",
       " ('закупку', 26),\n",
       " ('ближайшие', 26),\n",
       " ('регионе', 26),\n",
       " ('газпроме', 26),\n",
       " ('получила', 26),\n",
       " ('продаж', 26),\n",
       " ('дополнительных', 26),\n",
       " ('добавил', 26),\n",
       " ('себя', 26),\n",
       " ('подписать', 26),\n",
       " ('антимонопольного', 26),\n",
       " ('входит', 26),\n",
       " ('нефтекомпании', 26),\n",
       " ('спроса', 25),\n",
       " ('лицензии', 25),\n",
       " ('шельфа', 25),\n",
       " ('поскольку', 25),\n",
       " ('ввести', 25),\n",
       " ('крупные', 25),\n",
       " ('котором', 25),\n",
       " ('добыче', 25),\n",
       " ('контрактов', 25),\n",
       " ('подтвердил', 25),\n",
       " ('средства', 25),\n",
       " ('роснефтью', 25),\n",
       " ('турции', 25),\n",
       " ('работу', 25),\n",
       " ('пять', 25),\n",
       " ('начальник', 25),\n",
       " ('вгтрк', 25),\n",
       " ('управление', 25),\n",
       " ('межрегионгаз', 25),\n",
       " ('иск', 25),\n",
       " ('снизилась', 25),\n",
       " ('миллера', 25),\n",
       " ('проблем', 25),\n",
       " ('нефтью', 25),\n",
       " ('энергохолдинга', 25),\n",
       " ('снижение', 25),\n",
       " ('украиной', 25),\n",
       " ('разработки', 25),\n",
       " ('контракту', 25),\n",
       " ('декабря', 25),\n",
       " ('компаниям', 25),\n",
       " ('планы', 24),\n",
       " ('мощностью', 24),\n",
       " ('одним', 24),\n",
       " ('вопросы', 24),\n",
       " ('сентябре', 24),\n",
       " ('апреля', 24),\n",
       " ('пытается', 24),\n",
       " ('форума', 24),\n",
       " ('газпромбанка', 24),\n",
       " ('заявки', 24),\n",
       " ('вновь', 24),\n",
       " ('участок', 24),\n",
       " ('продавать', 24),\n",
       " ('запасы', 24),\n",
       " ('акцию', 24),\n",
       " ('арбитражный', 24),\n",
       " ('одной', 24),\n",
       " ('обещает', 24),\n",
       " ('стоимостью', 24),\n",
       " ('канал', 24),\n",
       " ('новой', 24),\n",
       " ('суде', 24),\n",
       " ('качестве', 24),\n",
       " ('производства', 24),\n",
       " ('службы', 24),\n",
       " ('сентября', 24),\n",
       " ('первым', 24),\n",
       " ('международного', 24),\n",
       " ('принято', 24),\n",
       " ('нас', 24),\n",
       " ('скорее', 23),\n",
       " ('акции', 23),\n",
       " ('нужно', 23),\n",
       " ('раньше', 23),\n",
       " ('дальнее', 23),\n",
       " ('контроля', 23),\n",
       " ('банки', 23),\n",
       " ('сама', 23),\n",
       " ('рассматривает', 23),\n",
       " ('михаил', 23),\n",
       " ('материалах', 23),\n",
       " ('сроки', 23),\n",
       " ('смогла', 23),\n",
       " ('по-прежнему', 23),\n",
       " ('удастся', 23),\n",
       " ('экономического', 23),\n",
       " ('наиболее', 23),\n",
       " ('интервью', 23),\n",
       " ('январе', 23),\n",
       " ('банков', 23),\n",
       " ('участвовать', 23),\n",
       " ('сутки', 23),\n",
       " ('федеральная', 23),\n",
       " ('спрос', 23),\n",
       " ('организации', 23),\n",
       " ('фактически', 23),\n",
       " ('принял', 23),\n",
       " ('игорь', 23),\n",
       " ('отмечают', 23),\n",
       " ('этому', 23),\n",
       " ('скидки', 23),\n",
       " ('им', 23),\n",
       " ('правительством', 23),\n",
       " ('нефтяников', 23),\n",
       " ('ряд', 23),\n",
       " ('ситуации', 23),\n",
       " ('германии', 23),\n",
       " ('месяца', 23),\n",
       " ('нефтекомпания', 23),\n",
       " ('бизнес', 23),\n",
       " ('смог', 23),\n",
       " ('встречи', 23),\n",
       " ('месторождении', 22),\n",
       " ('февраля', 22),\n",
       " ('чего', 22),\n",
       " ('обязательства', 22),\n",
       " ('изменения', 22),\n",
       " ('участков', 22),\n",
       " ('пресс-релизе', 22),\n",
       " ('нее', 22),\n",
       " ('минприроды', 22),\n",
       " ('можно', 22),\n",
       " ('размер', 22),\n",
       " ('еврокомиссия', 22),\n",
       " ('аналогичным', 22),\n",
       " ('ндпи', 22),\n",
       " ('ситуацию', 22),\n",
       " ('клиентов', 22),\n",
       " ('партнером', 22),\n",
       " ('поэтому', 22),\n",
       " ('шельф', 22),\n",
       " ('санкции', 22),\n",
       " ('ближайшее', 22),\n",
       " ('группу', 22),\n",
       " ('болгарии', 22),\n",
       " ('место', 22),\n",
       " ('получили', 22),\n",
       " ('телеканала', 22),\n",
       " ('медведева', 22),\n",
       " ('заявку', 22),\n",
       " ('немецкой', 22),\n",
       " ('сахалин-', 22),\n",
       " ('участников', 22),\n",
       " ('пользу', 22),\n",
       " ('гпб', 22),\n",
       " ('недавно', 21),\n",
       " ('страну', 21),\n",
       " ('газопроводов', 21),\n",
       " ('я', 21),\n",
       " ('федоров', 21),\n",
       " ('данные', 21),\n",
       " ('объявил', 21),\n",
       " ('продаже', 21),\n",
       " ('востоке', 21),\n",
       " ('вдвое', 21),\n",
       " ('директор', 21),\n",
       " ('премьер-министр', 21),\n",
       " ('официальный', 21),\n",
       " ('могли', 21),\n",
       " ('бумаги', 21),\n",
       " ('снижении', 21),\n",
       " ('газотранспортной', 21),\n",
       " ('центр', 21),\n",
       " ('своим', 21),\n",
       " ('покупки', 21),\n",
       " ('антимонопольная', 21),\n",
       " ('россией', 21),\n",
       " ('ведомства', 21),\n",
       " ('бизнеса', 21),\n",
       " ('уровень', 21),\n",
       " ('готовится', 21),\n",
       " ('владельцем', 21),\n",
       " ('риски', 21),\n",
       " ('участники', 21),\n",
       " ('выпуск', 21),\n",
       " ('этим', 21),\n",
       " ('создании', 21),\n",
       " ('отметил', 21),\n",
       " ('денис', 21),\n",
       " ('геннадия', 21),\n",
       " ('конференции', 21),\n",
       " ('отчета', 21),\n",
       " ('предполагал', 21),\n",
       " ('скидку', 21),\n",
       " ('еврооблигаций', 21),\n",
       " ('тгк-', 20),\n",
       " ('меньше', 20),\n",
       " ('восточной', 20),\n",
       " ('сохранить', 20),\n",
       " ('целом', 20),\n",
       " ('рейтинг', 20),\n",
       " ('отчетности', 20),\n",
       " ('стран', 20),\n",
       " ('крупный', 20),\n",
       " ('января', 20),\n",
       " ('контракты', 20),\n",
       " ('сырья', 20),\n",
       " ('ключевой', 20),\n",
       " ('пресс-службе', 20),\n",
       " ('производитель', 20),\n",
       " ('бывший', 20),\n",
       " ('украинской', 20),\n",
       " ('оператора', 20),\n",
       " ('строить', 20),\n",
       " ('показатель', 20),\n",
       " ('сделать', 20),\n",
       " ('объема', 20),\n",
       " ('льготы', 20),\n",
       " ('намерена', 20),\n",
       " ('текущего', 20),\n",
       " ('вариант', 20),\n",
       " ('перспективе', 20),\n",
       " ('поставщиков', 20),\n",
       " ('вряд', 20),\n",
       " ('ценам', 20),\n",
       " ('именно', 20),\n",
       " ('михаила', 20),\n",
       " ('республики', 20),\n",
       " ('крупным', 20),\n",
       " ('возможно', 20),\n",
       " ('еврокомиссии', 20),\n",
       " ('чистый', 20),\n",
       " ('очень', 19),\n",
       " ('продолжают', 19),\n",
       " ('доходы', 19),\n",
       " ('погашения', 19),\n",
       " ('партнерами', 19),\n",
       " ('углеводородов', 19),\n",
       " ('оказаться', 19),\n",
       " ('арбитраж', 19),\n",
       " ('мощностей', 19),\n",
       " ('директора', 19),\n",
       " ('штраф', 19),\n",
       " ('одну', 19),\n",
       " ('партнера', 19),\n",
       " ('потребители', 19),\n",
       " ('продажу', 19),\n",
       " ('банковских', 19),\n",
       " ('внутреннем', 19),\n",
       " ('принять', 19),\n",
       " ('грэс', 19),\n",
       " ('лукойла', 19),\n",
       " ('выручки', 19),\n",
       " ('перспективы', 19),\n",
       " ('сотрудничества', 19),\n",
       " ('использовать', 19),\n",
       " ('признал', 19),\n",
       " ('госкомпании', 19),\n",
       " ('московской', 19),\n",
       " ('четыре', 19),\n",
       " ('белоруссии', 19),\n",
       " ('причиной', 19),\n",
       " ('переговорах', 19),\n",
       " ('данных', 19),\n",
       " ('сети', 19),\n",
       " ('работ', 19),\n",
       " ('госкомпаний', 19),\n",
       " ('закупок', 19),\n",
       " ('немецкая', 19),\n",
       " ('создания', 19),\n",
       " ('получать', 19),\n",
       " ('предложил', 19),\n",
       " ('соответствии', 19),\n",
       " ('расследование', 19),\n",
       " ('первую', 19),\n",
       " ('крупного', 19),\n",
       " ('москва', 19),\n",
       " ('независимые', 18),\n",
       " ('помимо', 18),\n",
       " ('ситуация', 18),\n",
       " ('девять', 18),\n",
       " ('ннк', 18),\n",
       " ('согласно', 18),\n",
       " ('турецкого', 18),\n",
       " ('процесс', 18),\n",
       " ('заявление', 18),\n",
       " ('обеспечить', 18),\n",
       " ('большого', 18),\n",
       " ('список', 18),\n",
       " ('владеет', 18),\n",
       " ('турцию', 18),\n",
       " ('потребителям', 18),\n",
       " ('александра', 18),\n",
       " ('ресурсов', 18),\n",
       " ('нефтяных', 18),\n",
       " ('радиостанции', 18),\n",
       " ('конкуренции', 18),\n",
       " ('должность', 18),\n",
       " ('сообщило', 18),\n",
       " ('господина', 18),\n",
       " ('находится', 18),\n",
       " ('сообщения', 18),\n",
       " ('кругах', 18),\n",
       " ('европейские', 18),\n",
       " ('штокмановского', 18),\n",
       " ('дней', 18),\n",
       " ('имеет', 18),\n",
       " ('гг', 18),\n",
       " ('запустить', 18),\n",
       " ('украинского', 18),\n",
       " ('федеральной', 18),\n",
       " ('августа', 18),\n",
       " ('ямал', 18),\n",
       " ('убыток', 18),\n",
       " ('самым', 18),\n",
       " ('дмитрия', 18),\n",
       " ('кулуарах', 18),\n",
       " ('вокруг', 18),\n",
       " ('отказался', 18),\n",
       " ('работе', 18),\n",
       " ('партнеры', 18),\n",
       " ('турецкий', 18),\n",
       " ('нефтяная', 18),\n",
       " ('мнпз', 18),\n",
       " ('консорциума', 18),\n",
       " ('периодом', 18),\n",
       " ('сделке', 18),\n",
       " ('начали', 18),\n",
       " ('принадлежит', 18),\n",
       " ('актива', 18),\n",
       " ('освоения', 18),\n",
       " ('крупнейшие', 18),\n",
       " ('заимствований', 18),\n",
       " ('первой', 18),\n",
       " ('рублей', 18),\n",
       " ('кредита', 18),\n",
       " ('стокгольмский', 17),\n",
       " ('национальной', 17),\n",
       " ('высокой', 17),\n",
       " ('июле', 17),\n",
       " ('сайте', 17),\n",
       " ('николай', 17),\n",
       " ('зимой', 17),\n",
       " ('права', 17),\n",
       " ('литва', 17),\n",
       " ('кроме', 17),\n",
       " ('совместного', 17),\n",
       " ('регулятора', 17),\n",
       " ('сокращение', 17),\n",
       " ('деятельности', 17),\n",
       " ('сторона', 17),\n",
       " ('самой', 17),\n",
       " ('сербской', 17),\n",
       " ('будущем', 17),\n",
       " ('претензии', 17),\n",
       " ('превышает', 17),\n",
       " ('кредит', 17),\n",
       " ('работать', 17),\n",
       " ('новости', 17),\n",
       " ('включая', 17),\n",
       " ('участии', 17),\n",
       " ('комитета', 17),\n",
       " ('крупнейшего', 17),\n",
       " ('вадим', 17),\n",
       " ('тендере', 17),\n",
       " ('капитал', 17),\n",
       " ('минфин', 17),\n",
       " ('премьера', 17),\n",
       " ('фонда', 17),\n",
       " ('нефтепродуктов', 17),\n",
       " ('китайской', 17),\n",
       " ('дочки', 17),\n",
       " ('телеканал', 17),\n",
       " ('кредитов', 17),\n",
       " ('начало', 17),\n",
       " ('позицию', 17),\n",
       " ('комплекса', 17),\n",
       " ('доходов', 17),\n",
       " ('дочерняя', 17),\n",
       " ('энергокомпании', 17),\n",
       " ('ржд', 17),\n",
       " ('там', 17),\n",
       " ('стоимости', 17),\n",
       " ('дальнем', 17),\n",
       " ('задолженности', 17),\n",
       " ('размещения', 17),\n",
       " ('приобрести', 17),\n",
       " ('повысить', 17),\n",
       " ('требования', 17),\n",
       " ('повышения', 17),\n",
       " ('акционерам', 17),\n",
       " ('куда', 17),\n",
       " ('собрании', 17),\n",
       " ('декабре', 17),\n",
       " ('привести', 16),\n",
       " ...]"
      ]
     },
     "execution_count": 174,
     "metadata": {},
     "output_type": "execute_result"
    }
   ],
   "source": [
    "freq_dist.most_common()"
   ]
  },
  {
   "cell_type": "code",
   "execution_count": 148,
   "metadata": {},
   "outputs": [
    {
     "name": "stdout",
     "output_type": "stream",
     "text": [
      "3.2.1\n"
     ]
    }
   ],
   "source": [
    "print(nltk.__version__)"
   ]
  },
  {
   "cell_type": "code",
   "execution_count": 30,
   "metadata": {},
   "outputs": [],
   "source": [
    "df.reset_index(inplace=True)"
   ]
  },
  {
   "cell_type": "code",
   "execution_count": 95,
   "metadata": {},
   "outputs": [],
   "source": [
    "test = df['text'][0]"
   ]
  },
  {
   "cell_type": "code",
   "execution_count": 96,
   "metadata": {},
   "outputs": [
    {
     "name": "stdout",
     "output_type": "stream",
     "text": [
      "Wall time: 0 ns\n"
     ]
    }
   ],
   "source": [
    "%%time\n",
    "from pymorphy2 import MorphAnalyzer\n",
    "from nltk.tokenize import sent_tokenize\n",
    "from nltk.corpus import stopwords\n",
    "from pymystem3 import Mystem\n"
   ]
  },
  {
   "cell_type": "code",
   "execution_count": 97,
   "metadata": {
    "scrolled": false
   },
   "outputs": [
    {
     "name": "stdout",
     "output_type": "stream",
     "text": [
      "компания рассчитывать решение газовый спор украина конец декабрь газпром ожидать решение стокгольмский арбитраж транзитный спор украинский нафтогаз поздний февраль год хотя ранний компания прогнозировать это произойти ноябрь решение взаимный иск условие поставка газа украина мнение монополия суд принять месяц ранний декабрь год\n"
     ]
    }
   ],
   "source": [
    "prog = re.compile('[А-Яа-я\\-]+')\n",
    "tokens2 = prog.findall(test)\n",
    "\n",
    "morph = MorphAnalyzer()\n",
    "l2 = [morph.parse(token)[0].normal_form for token in tokens2 if not token in stopwords.words('russian')]\n",
    "\n",
    "print(*l2)"
   ]
  },
  {
   "cell_type": "code",
   "execution_count": 185,
   "metadata": {},
   "outputs": [],
   "source": [
    "df['textnorm'] = 0"
   ]
  },
  {
   "cell_type": "code",
   "execution_count": 188,
   "metadata": {
    "scrolled": true
   },
   "outputs": [],
   "source": [
    "for i in range(len(df)):\n",
    "    tokens2 = prog.findall(df['text'][i])\n",
    "\n",
    "    morph = MorphAnalyzer()\n",
    "    l2 = [morph.parse(token)[0].normal_form for token in tokens2 if not token in stopwords.words('russian')]\n",
    "    toknorm = [word for word in l2 if not word in rarewords]\n",
    "    df['textnorm'][i] = toknorm"
   ]
  },
  {
   "cell_type": "code",
   "execution_count": 189,
   "metadata": {},
   "outputs": [
    {
     "data": {
      "text/html": [
       "<div>\n",
       "<style>\n",
       "    .dataframe thead tr:only-child th {\n",
       "        text-align: right;\n",
       "    }\n",
       "\n",
       "    .dataframe thead th {\n",
       "        text-align: left;\n",
       "    }\n",
       "\n",
       "    .dataframe tbody tr th {\n",
       "        vertical-align: top;\n",
       "    }\n",
       "</style>\n",
       "<table border=\"1\" class=\"dataframe\">\n",
       "  <thead>\n",
       "    <tr style=\"text-align: right;\">\n",
       "      <th></th>\n",
       "      <th>date</th>\n",
       "      <th>text</th>\n",
       "      <th>tokenized_sents</th>\n",
       "      <th>text1</th>\n",
       "      <th>textnorm</th>\n",
       "    </tr>\n",
       "  </thead>\n",
       "  <tbody>\n",
       "    <tr>\n",
       "      <th>0</th>\n",
       "      <td>09.11.2017</td>\n",
       "      <td>Компания рассчитывает на решение по газовому с...</td>\n",
       "      <td>[Компания, рассчитывает, на, решение, по, газо...</td>\n",
       "      <td>[компания, рассчитывает, на, решение, по, газо...</td>\n",
       "      <td>[компания, решение, газовый, спор, украина, ко...</td>\n",
       "    </tr>\n",
       "    <tr>\n",
       "      <th>1</th>\n",
       "      <td>08.11.2017</td>\n",
       "      <td>Как и предполагал “Ъ”, «Газпром», воспользова...</td>\n",
       "      <td>[Как, и, предполагал, “Ъ”, ,, «Газпром», ,, во...</td>\n",
       "      <td>[как, и, предполагал, ъ, газпром, воспользовав...</td>\n",
       "      <td>[как, предполагать, ъ, газпром, воспользоватьс...</td>\n",
       "    </tr>\n",
       "    <tr>\n",
       "      <th>2</th>\n",
       "      <td>01.11.2017</td>\n",
       "      <td>Новая редакция американских санкций ставит по...</td>\n",
       "      <td>[Новая, редакция, американских, санкций, стави...</td>\n",
       "      <td>[новая, редакция, американских, санкций, стави...</td>\n",
       "      <td>[новый, санкция, ставить, угроза, нефтяной, пр...</td>\n",
       "    </tr>\n",
       "    <tr>\n",
       "      <th>3</th>\n",
       "      <td>30.10.2017</td>\n",
       "      <td>Как стало известно “Ъ”, известный на рынке ри...</td>\n",
       "      <td>[Как, стало, известно, “Ъ”, ,, известный, на, ...</td>\n",
       "      <td>[как, стало, известно, ъ, известный, на, рынке...</td>\n",
       "      <td>[как, стать, известно, ъ, рынок, вадим, работа...</td>\n",
       "    </tr>\n",
       "    <tr>\n",
       "      <th>4</th>\n",
       "      <td>23.10.2017</td>\n",
       "      <td>НОВАТЭК, который через пять лет собирается за...</td>\n",
       "      <td>[НОВАТЭК, ,, который, через, пять, лет, собира...</td>\n",
       "      <td>[новатэк, который, через, пять, лет, собираетс...</td>\n",
       "      <td>[новатэк, который, пять, год, собираться, запу...</td>\n",
       "    </tr>\n",
       "  </tbody>\n",
       "</table>\n",
       "</div>"
      ],
      "text/plain": [
       "         date                                               text  \\\n",
       "0  09.11.2017  Компания рассчитывает на решение по газовому с...   \n",
       "1  08.11.2017   Как и предполагал “Ъ”, «Газпром», воспользова...   \n",
       "2  01.11.2017   Новая редакция американских санкций ставит по...   \n",
       "3  30.10.2017   Как стало известно “Ъ”, известный на рынке ри...   \n",
       "4  23.10.2017   НОВАТЭК, который через пять лет собирается за...   \n",
       "\n",
       "                                     tokenized_sents  \\\n",
       "0  [Компания, рассчитывает, на, решение, по, газо...   \n",
       "1  [Как, и, предполагал, “Ъ”, ,, «Газпром», ,, во...   \n",
       "2  [Новая, редакция, американских, санкций, стави...   \n",
       "3  [Как, стало, известно, “Ъ”, ,, известный, на, ...   \n",
       "4  [НОВАТЭК, ,, который, через, пять, лет, собира...   \n",
       "\n",
       "                                               text1  \\\n",
       "0  [компания, рассчитывает, на, решение, по, газо...   \n",
       "1  [как, и, предполагал, ъ, газпром, воспользовав...   \n",
       "2  [новая, редакция, американских, санкций, стави...   \n",
       "3  [как, стало, известно, ъ, известный, на, рынке...   \n",
       "4  [новатэк, который, через, пять, лет, собираетс...   \n",
       "\n",
       "                                            textnorm  \n",
       "0  [компания, решение, газовый, спор, украина, ко...  \n",
       "1  [как, предполагать, ъ, газпром, воспользоватьс...  \n",
       "2  [новый, санкция, ставить, угроза, нефтяной, пр...  \n",
       "3  [как, стать, известно, ъ, рынок, вадим, работа...  \n",
       "4  [новатэк, который, пять, год, собираться, запу...  "
      ]
     },
     "execution_count": 189,
     "metadata": {},
     "output_type": "execute_result"
    }
   ],
   "source": [
    "df.head()"
   ]
  },
  {
   "cell_type": "code",
   "execution_count": 190,
   "metadata": {
    "scrolled": true
   },
   "outputs": [],
   "source": [
    "toktest = df['textnorm'][0]"
   ]
  },
  {
   "cell_type": "code",
   "execution_count": 191,
   "metadata": {},
   "outputs": [],
   "source": [
    "sertest = pd.DataFrame(pd.Series(toktest).str.lower().value_counts()).T"
   ]
  },
  {
   "cell_type": "code",
   "execution_count": 192,
   "metadata": {
    "scrolled": true
   },
   "outputs": [
    {
     "data": {
      "text/html": [
       "<div>\n",
       "<style>\n",
       "    .dataframe thead tr:only-child th {\n",
       "        text-align: right;\n",
       "    }\n",
       "\n",
       "    .dataframe thead th {\n",
       "        text-align: left;\n",
       "    }\n",
       "\n",
       "    .dataframe tbody tr th {\n",
       "        vertical-align: top;\n",
       "    }\n",
       "</style>\n",
       "<table border=\"1\" class=\"dataframe\">\n",
       "  <thead>\n",
       "    <tr style=\"text-align: right;\">\n",
       "      <th></th>\n",
       "      <th>решение</th>\n",
       "      <th>спор</th>\n",
       "      <th>украина</th>\n",
       "      <th>компания</th>\n",
       "      <th>год</th>\n",
       "      <th>ранний</th>\n",
       "      <th>арбитраж</th>\n",
       "      <th>ожидать</th>\n",
       "      <th>месяц</th>\n",
       "      <th>это</th>\n",
       "      <th>...</th>\n",
       "      <th>нафтогаз</th>\n",
       "      <th>суд</th>\n",
       "      <th>хотя</th>\n",
       "      <th>газа</th>\n",
       "      <th>прогнозировать</th>\n",
       "      <th>конец</th>\n",
       "      <th>взаимный</th>\n",
       "      <th>стокгольмский</th>\n",
       "      <th>условие</th>\n",
       "      <th>газовый</th>\n",
       "    </tr>\n",
       "  </thead>\n",
       "  <tbody>\n",
       "    <tr>\n",
       "      <th>0</th>\n",
       "      <td>3</td>\n",
       "      <td>2</td>\n",
       "      <td>2</td>\n",
       "      <td>2</td>\n",
       "      <td>2</td>\n",
       "      <td>2</td>\n",
       "      <td>1</td>\n",
       "      <td>1</td>\n",
       "      <td>1</td>\n",
       "      <td>1</td>\n",
       "      <td>...</td>\n",
       "      <td>1</td>\n",
       "      <td>1</td>\n",
       "      <td>1</td>\n",
       "      <td>1</td>\n",
       "      <td>1</td>\n",
       "      <td>1</td>\n",
       "      <td>1</td>\n",
       "      <td>1</td>\n",
       "      <td>1</td>\n",
       "      <td>1</td>\n",
       "    </tr>\n",
       "  </tbody>\n",
       "</table>\n",
       "<p>1 rows × 26 columns</p>\n",
       "</div>"
      ],
      "text/plain": [
       "   решение  спор  украина  компания  год  ранний  арбитраж  ожидать  месяц  \\\n",
       "0        3     2        2         2    2       2         1        1      1   \n",
       "\n",
       "   это   ...     нафтогаз  суд  хотя  газа  прогнозировать  конец  взаимный  \\\n",
       "0    1   ...            1    1     1     1               1      1         1   \n",
       "\n",
       "   стокгольмский  условие  газовый  \n",
       "0              1        1        1  \n",
       "\n",
       "[1 rows x 26 columns]"
      ]
     },
     "execution_count": 192,
     "metadata": {},
     "output_type": "execute_result"
    }
   ],
   "source": [
    "sertest"
   ]
  },
  {
   "cell_type": "code",
   "execution_count": 193,
   "metadata": {},
   "outputs": [],
   "source": [
    "test2 = df['textnorm'][1]"
   ]
  },
  {
   "cell_type": "code",
   "execution_count": 194,
   "metadata": {},
   "outputs": [],
   "source": [
    "sertest2 = pd.DataFrame(pd.Series(test2).str.lower().value_counts()).T"
   ]
  },
  {
   "cell_type": "code",
   "execution_count": 195,
   "metadata": {},
   "outputs": [
    {
     "data": {
      "text/html": [
       "<div>\n",
       "<style>\n",
       "    .dataframe thead tr:only-child th {\n",
       "        text-align: right;\n",
       "    }\n",
       "\n",
       "    .dataframe thead th {\n",
       "        text-align: left;\n",
       "    }\n",
       "\n",
       "    .dataframe tbody tr th {\n",
       "        vertical-align: top;\n",
       "    }\n",
       "</style>\n",
       "<table border=\"1\" class=\"dataframe\">\n",
       "  <thead>\n",
       "    <tr style=\"text-align: right;\">\n",
       "      <th></th>\n",
       "      <th>газпром</th>\n",
       "      <th>ачимовский</th>\n",
       "      <th>миллиард</th>\n",
       "      <th>ъ</th>\n",
       "      <th>газа</th>\n",
       "      <th>ндпить</th>\n",
       "      <th>монополия</th>\n",
       "      <th>сп</th>\n",
       "      <th>это</th>\n",
       "      <th>который</th>\n",
       "      <th>...</th>\n",
       "      <th>производитель</th>\n",
       "      <th>свой</th>\n",
       "      <th>проект</th>\n",
       "      <th>тот</th>\n",
       "      <th>разрабатывать</th>\n",
       "      <th>предполагать</th>\n",
       "      <th>добыча</th>\n",
       "      <th>триллион</th>\n",
       "      <th>структура</th>\n",
       "      <th>запас</th>\n",
       "    </tr>\n",
       "  </thead>\n",
       "  <tbody>\n",
       "    <tr>\n",
       "      <th>0</th>\n",
       "      <td>3</td>\n",
       "      <td>2</td>\n",
       "      <td>2</td>\n",
       "      <td>2</td>\n",
       "      <td>2</td>\n",
       "      <td>2</td>\n",
       "      <td>2</td>\n",
       "      <td>2</td>\n",
       "      <td>1</td>\n",
       "      <td>1</td>\n",
       "      <td>...</td>\n",
       "      <td>1</td>\n",
       "      <td>1</td>\n",
       "      <td>1</td>\n",
       "      <td>1</td>\n",
       "      <td>1</td>\n",
       "      <td>1</td>\n",
       "      <td>1</td>\n",
       "      <td>1</td>\n",
       "      <td>1</td>\n",
       "      <td>1</td>\n",
       "    </tr>\n",
       "  </tbody>\n",
       "</table>\n",
       "<p>1 rows × 43 columns</p>\n",
       "</div>"
      ],
      "text/plain": [
       "   газпром  ачимовский  миллиард  ъ  газа  ндпить  монополия  сп  это  \\\n",
       "0        3           2         2  2     2       2          2   2    1   \n",
       "\n",
       "   который  ...    производитель  свой  проект  тот  разрабатывать  \\\n",
       "0        1  ...                1     1       1    1              1   \n",
       "\n",
       "   предполагать  добыча  триллион  структура  запас  \n",
       "0             1       1         1          1      1  \n",
       "\n",
       "[1 rows x 43 columns]"
      ]
     },
     "execution_count": 195,
     "metadata": {},
     "output_type": "execute_result"
    }
   ],
   "source": [
    "sertest2"
   ]
  },
  {
   "cell_type": "code",
   "execution_count": 196,
   "metadata": {
    "scrolled": true
   },
   "outputs": [
    {
     "data": {
      "text/html": [
       "<div>\n",
       "<style>\n",
       "    .dataframe thead tr:only-child th {\n",
       "        text-align: right;\n",
       "    }\n",
       "\n",
       "    .dataframe thead th {\n",
       "        text-align: left;\n",
       "    }\n",
       "\n",
       "    .dataframe tbody tr th {\n",
       "        vertical-align: top;\n",
       "    }\n",
       "</style>\n",
       "<table border=\"1\" class=\"dataframe\">\n",
       "  <thead>\n",
       "    <tr style=\"text-align: right;\">\n",
       "      <th></th>\n",
       "      <th>арбитраж</th>\n",
       "      <th>ачимовский</th>\n",
       "      <th>взаимный</th>\n",
       "      <th>воспользоваться</th>\n",
       "      <th>газа</th>\n",
       "      <th>газовый</th>\n",
       "      <th>газпром</th>\n",
       "      <th>год</th>\n",
       "      <th>добиться</th>\n",
       "      <th>добыча</th>\n",
       "      <th>...</th>\n",
       "      <th>тот</th>\n",
       "      <th>триллион</th>\n",
       "      <th>украина</th>\n",
       "      <th>украинский</th>\n",
       "      <th>уровень</th>\n",
       "      <th>условие</th>\n",
       "      <th>хотя</th>\n",
       "      <th>ъ</th>\n",
       "      <th>это</th>\n",
       "      <th>этот</th>\n",
       "    </tr>\n",
       "  </thead>\n",
       "  <tbody>\n",
       "    <tr>\n",
       "      <th>0</th>\n",
       "      <td>1.0</td>\n",
       "      <td>NaN</td>\n",
       "      <td>1.0</td>\n",
       "      <td>NaN</td>\n",
       "      <td>1</td>\n",
       "      <td>1.0</td>\n",
       "      <td>1</td>\n",
       "      <td>2</td>\n",
       "      <td>NaN</td>\n",
       "      <td>NaN</td>\n",
       "      <td>...</td>\n",
       "      <td>NaN</td>\n",
       "      <td>NaN</td>\n",
       "      <td>2.0</td>\n",
       "      <td>1.0</td>\n",
       "      <td>NaN</td>\n",
       "      <td>1.0</td>\n",
       "      <td>1.0</td>\n",
       "      <td>NaN</td>\n",
       "      <td>1</td>\n",
       "      <td>NaN</td>\n",
       "    </tr>\n",
       "    <tr>\n",
       "      <th>0</th>\n",
       "      <td>NaN</td>\n",
       "      <td>2.0</td>\n",
       "      <td>NaN</td>\n",
       "      <td>1.0</td>\n",
       "      <td>2</td>\n",
       "      <td>NaN</td>\n",
       "      <td>3</td>\n",
       "      <td>1</td>\n",
       "      <td>1.0</td>\n",
       "      <td>1.0</td>\n",
       "      <td>...</td>\n",
       "      <td>1.0</td>\n",
       "      <td>1.0</td>\n",
       "      <td>NaN</td>\n",
       "      <td>NaN</td>\n",
       "      <td>1.0</td>\n",
       "      <td>NaN</td>\n",
       "      <td>NaN</td>\n",
       "      <td>2.0</td>\n",
       "      <td>1</td>\n",
       "      <td>1.0</td>\n",
       "    </tr>\n",
       "  </tbody>\n",
       "</table>\n",
       "<p>2 rows × 64 columns</p>\n",
       "</div>"
      ],
      "text/plain": [
       "   арбитраж  ачимовский  взаимный  воспользоваться  газа  газовый  газпром  \\\n",
       "0       1.0         NaN       1.0              NaN     1      1.0        1   \n",
       "0       NaN         2.0       NaN              1.0     2      NaN        3   \n",
       "\n",
       "   год  добиться  добыча  ...   тот  триллион  украина  украинский  уровень  \\\n",
       "0    2       NaN     NaN  ...   NaN       NaN      2.0         1.0      NaN   \n",
       "0    1       1.0     1.0  ...   1.0       1.0      NaN         NaN      1.0   \n",
       "\n",
       "   условие  хотя    ъ  это  этот  \n",
       "0      1.0   1.0  NaN    1   NaN  \n",
       "0      NaN   NaN  2.0    1   1.0  \n",
       "\n",
       "[2 rows x 64 columns]"
      ]
     },
     "execution_count": 196,
     "metadata": {},
     "output_type": "execute_result"
    }
   ],
   "source": [
    "sertest.append(sertest2)"
   ]
  },
  {
   "cell_type": "code",
   "execution_count": 198,
   "metadata": {},
   "outputs": [],
   "source": [
    "final = sertest\n",
    "for i in range(1, len(df)):\n",
    "    \n",
    "    text = df['textnorm'][i]\n",
    "    try:\n",
    "        dftext = pd.DataFrame(pd.Series(text).str.lower().value_counts()).T\n",
    "    except:\n",
    "        print('Troubles with text : {}'.format(i))\n",
    "    final = final.append(dftext)\n",
    "    final.fillna(0, inplace=True)"
   ]
  },
  {
   "cell_type": "code",
   "execution_count": 199,
   "metadata": {
    "scrolled": false
   },
   "outputs": [
    {
     "data": {
      "text/html": [
       "<div>\n",
       "<style>\n",
       "    .dataframe thead tr:only-child th {\n",
       "        text-align: right;\n",
       "    }\n",
       "\n",
       "    .dataframe thead th {\n",
       "        text-align: left;\n",
       "    }\n",
       "\n",
       "    .dataframe tbody tr th {\n",
       "        vertical-align: top;\n",
       "    }\n",
       "</style>\n",
       "<table border=\"1\" class=\"dataframe\">\n",
       "  <thead>\n",
       "    <tr style=\"text-align: right;\">\n",
       "      <th></th>\n",
       "      <th>-</th>\n",
       "      <th>-го</th>\n",
       "      <th>-е</th>\n",
       "      <th>-клиент</th>\n",
       "      <th>-компания</th>\n",
       "      <th>-метровый</th>\n",
       "      <th>-процентный</th>\n",
       "      <th>-разработчик</th>\n",
       "      <th>-технология</th>\n",
       "      <th>-х</th>\n",
       "      <th>...</th>\n",
       "      <th>янк</th>\n",
       "      <th>янкевич</th>\n",
       "      <th>янукович</th>\n",
       "      <th>янша</th>\n",
       "      <th>японец</th>\n",
       "      <th>яров</th>\n",
       "      <th>ярославский</th>\n",
       "      <th>ясный</th>\n",
       "      <th>яценюк</th>\n",
       "      <th>яцинявичен-балтадоун</th>\n",
       "    </tr>\n",
       "  </thead>\n",
       "  <tbody>\n",
       "    <tr>\n",
       "      <th>0</th>\n",
       "      <td>0.0</td>\n",
       "      <td>0.0</td>\n",
       "      <td>0.0</td>\n",
       "      <td>0.0</td>\n",
       "      <td>0.0</td>\n",
       "      <td>0.0</td>\n",
       "      <td>0.0</td>\n",
       "      <td>0.0</td>\n",
       "      <td>0.0</td>\n",
       "      <td>0.0</td>\n",
       "      <td>...</td>\n",
       "      <td>0.0</td>\n",
       "      <td>0.0</td>\n",
       "      <td>0.0</td>\n",
       "      <td>0.0</td>\n",
       "      <td>0.0</td>\n",
       "      <td>0.0</td>\n",
       "      <td>0.0</td>\n",
       "      <td>0.0</td>\n",
       "      <td>0.0</td>\n",
       "      <td>0.0</td>\n",
       "    </tr>\n",
       "    <tr>\n",
       "      <th>0</th>\n",
       "      <td>0.0</td>\n",
       "      <td>0.0</td>\n",
       "      <td>0.0</td>\n",
       "      <td>0.0</td>\n",
       "      <td>0.0</td>\n",
       "      <td>0.0</td>\n",
       "      <td>0.0</td>\n",
       "      <td>0.0</td>\n",
       "      <td>0.0</td>\n",
       "      <td>0.0</td>\n",
       "      <td>...</td>\n",
       "      <td>0.0</td>\n",
       "      <td>0.0</td>\n",
       "      <td>0.0</td>\n",
       "      <td>0.0</td>\n",
       "      <td>0.0</td>\n",
       "      <td>0.0</td>\n",
       "      <td>0.0</td>\n",
       "      <td>0.0</td>\n",
       "      <td>0.0</td>\n",
       "      <td>0.0</td>\n",
       "    </tr>\n",
       "    <tr>\n",
       "      <th>0</th>\n",
       "      <td>0.0</td>\n",
       "      <td>0.0</td>\n",
       "      <td>0.0</td>\n",
       "      <td>0.0</td>\n",
       "      <td>0.0</td>\n",
       "      <td>0.0</td>\n",
       "      <td>0.0</td>\n",
       "      <td>0.0</td>\n",
       "      <td>0.0</td>\n",
       "      <td>1.0</td>\n",
       "      <td>...</td>\n",
       "      <td>0.0</td>\n",
       "      <td>0.0</td>\n",
       "      <td>0.0</td>\n",
       "      <td>0.0</td>\n",
       "      <td>0.0</td>\n",
       "      <td>1.0</td>\n",
       "      <td>0.0</td>\n",
       "      <td>0.0</td>\n",
       "      <td>0.0</td>\n",
       "      <td>0.0</td>\n",
       "    </tr>\n",
       "    <tr>\n",
       "      <th>0</th>\n",
       "      <td>0.0</td>\n",
       "      <td>0.0</td>\n",
       "      <td>0.0</td>\n",
       "      <td>0.0</td>\n",
       "      <td>0.0</td>\n",
       "      <td>0.0</td>\n",
       "      <td>0.0</td>\n",
       "      <td>0.0</td>\n",
       "      <td>0.0</td>\n",
       "      <td>0.0</td>\n",
       "      <td>...</td>\n",
       "      <td>0.0</td>\n",
       "      <td>0.0</td>\n",
       "      <td>0.0</td>\n",
       "      <td>0.0</td>\n",
       "      <td>0.0</td>\n",
       "      <td>0.0</td>\n",
       "      <td>0.0</td>\n",
       "      <td>0.0</td>\n",
       "      <td>0.0</td>\n",
       "      <td>0.0</td>\n",
       "    </tr>\n",
       "    <tr>\n",
       "      <th>0</th>\n",
       "      <td>0.0</td>\n",
       "      <td>0.0</td>\n",
       "      <td>0.0</td>\n",
       "      <td>0.0</td>\n",
       "      <td>0.0</td>\n",
       "      <td>0.0</td>\n",
       "      <td>0.0</td>\n",
       "      <td>0.0</td>\n",
       "      <td>0.0</td>\n",
       "      <td>0.0</td>\n",
       "      <td>...</td>\n",
       "      <td>0.0</td>\n",
       "      <td>0.0</td>\n",
       "      <td>0.0</td>\n",
       "      <td>0.0</td>\n",
       "      <td>0.0</td>\n",
       "      <td>0.0</td>\n",
       "      <td>0.0</td>\n",
       "      <td>0.0</td>\n",
       "      <td>0.0</td>\n",
       "      <td>0.0</td>\n",
       "    </tr>\n",
       "  </tbody>\n",
       "</table>\n",
       "<p>5 rows × 4435 columns</p>\n",
       "</div>"
      ],
      "text/plain": [
       "     -  -го   -е  -клиент  -компания  -метровый  -процентный  -разработчик  \\\n",
       "0  0.0  0.0  0.0      0.0        0.0        0.0          0.0           0.0   \n",
       "0  0.0  0.0  0.0      0.0        0.0        0.0          0.0           0.0   \n",
       "0  0.0  0.0  0.0      0.0        0.0        0.0          0.0           0.0   \n",
       "0  0.0  0.0  0.0      0.0        0.0        0.0          0.0           0.0   \n",
       "0  0.0  0.0  0.0      0.0        0.0        0.0          0.0           0.0   \n",
       "\n",
       "   -технология   -х          ...           янк  янкевич  янукович  янша  \\\n",
       "0          0.0  0.0          ...           0.0      0.0       0.0   0.0   \n",
       "0          0.0  0.0          ...           0.0      0.0       0.0   0.0   \n",
       "0          0.0  1.0          ...           0.0      0.0       0.0   0.0   \n",
       "0          0.0  0.0          ...           0.0      0.0       0.0   0.0   \n",
       "0          0.0  0.0          ...           0.0      0.0       0.0   0.0   \n",
       "\n",
       "   японец  яров  ярославский  ясный  яценюк  яцинявичен-балтадоун  \n",
       "0     0.0   0.0          0.0    0.0     0.0                   0.0  \n",
       "0     0.0   0.0          0.0    0.0     0.0                   0.0  \n",
       "0     0.0   1.0          0.0    0.0     0.0                   0.0  \n",
       "0     0.0   0.0          0.0    0.0     0.0                   0.0  \n",
       "0     0.0   0.0          0.0    0.0     0.0                   0.0  \n",
       "\n",
       "[5 rows x 4435 columns]"
      ]
     },
     "execution_count": 199,
     "metadata": {},
     "output_type": "execute_result"
    }
   ],
   "source": [
    "final.head()"
   ]
  },
  {
   "cell_type": "code",
   "execution_count": 200,
   "metadata": {},
   "outputs": [
    {
     "data": {
      "text/plain": [
       "(1202, 4435)"
      ]
     },
     "execution_count": 200,
     "metadata": {},
     "output_type": "execute_result"
    }
   ],
   "source": [
    "final.shape"
   ]
  },
  {
   "cell_type": "code",
   "execution_count": 202,
   "metadata": {},
   "outputs": [],
   "source": [
    "final.to_csv('D:/Netology/GazpromDf.csv')"
   ]
  },
  {
   "cell_type": "code",
   "execution_count": 18,
   "metadata": {},
   "outputs": [],
   "source": [
    "data = pd.read_csv('D:/Netology/GazpromDf.csv', encoding='cp1251')"
   ]
  },
  {
   "cell_type": "code",
   "execution_count": 22,
   "metadata": {},
   "outputs": [],
   "source": [
    "data.drop(['Unnamed: 0'], axis = 1, inplace=True)"
   ]
  },
  {
   "cell_type": "code",
   "execution_count": 26,
   "metadata": {},
   "outputs": [],
   "source": [
    "classdata = data.merge(pr_all, 'inner', left_index=True, right_index=True)"
   ]
  },
  {
   "cell_type": "code",
   "execution_count": 58,
   "metadata": {},
   "outputs": [],
   "source": [
    "import matplotlib.pyplot as plt\n",
    "plt.style.use('ggplot')\n",
    "%matplotlib inline\n",
    "%config InlineBackend.figure_format = 'retina'\n"
   ]
  },
  {
   "cell_type": "code",
   "execution_count": 70,
   "metadata": {},
   "outputs": [],
   "source": [
    "\n",
    "from sklearn.model_selection import train_test_split\n",
    "from sklearn.linear_model import LogisticRegression\n",
    "from sklearn.ensemble import RandomForestClassifier\n",
    "from sklearn.svm import LinearSVC\n",
    "from sklearn.calibration import calibration_curve\n",
    "from sklearn.metrics import roc_auc_score \n",
    "from sklearn.metrics import roc_curve\n",
    "from sklearn.metrics import accuracy_score\n",
    "from sklearn.metrics import f1_score"
   ]
  },
  {
   "cell_type": "code",
   "execution_count": 34,
   "metadata": {},
   "outputs": [],
   "source": [
    "price = np.array(ClosingPrice_bin['ClosingPrice_bin'])"
   ]
  },
  {
   "cell_type": "code",
   "execution_count": 36,
   "metadata": {},
   "outputs": [
    {
     "data": {
      "text/plain": [
       "(1202,)"
      ]
     },
     "execution_count": 36,
     "metadata": {},
     "output_type": "execute_result"
    }
   ],
   "source": [
    "price.shape"
   ]
  },
  {
   "cell_type": "code",
   "execution_count": 37,
   "metadata": {},
   "outputs": [
    {
     "data": {
      "text/plain": [
       "(1202, 4435)"
      ]
     },
     "execution_count": 37,
     "metadata": {},
     "output_type": "execute_result"
    }
   ],
   "source": [
    "data.shape"
   ]
  },
  {
   "cell_type": "code",
   "execution_count": 45,
   "metadata": {},
   "outputs": [],
   "source": [
    "X_train, X_test, y_train, y_test = train_test_split(data, price, test_size = 0.1)"
   ]
  },
  {
   "cell_type": "code",
   "execution_count": 42,
   "metadata": {},
   "outputs": [],
   "source": [
    "lr = LogisticRegression()\n",
    "svc = LinearSVC(C=1.0)\n",
    "rfc = RandomForestClassifier(n_estimators=1000)"
   ]
  },
  {
   "cell_type": "code",
   "execution_count": 66,
   "metadata": {},
   "outputs": [
    {
     "data": {
      "text/plain": [
       "LogisticRegression(C=1.0, class_weight=None, dual=False, fit_intercept=True,\n",
       "          intercept_scaling=1, max_iter=100, multi_class='ovr', n_jobs=1,\n",
       "          penalty='l2', random_state=None, solver='liblinear', tol=0.0001,\n",
       "          verbose=0, warm_start=False)"
      ]
     },
     "execution_count": 66,
     "metadata": {},
     "output_type": "execute_result"
    }
   ],
   "source": [
    "lr.fit(X_train, y_train)"
   ]
  },
  {
   "cell_type": "code",
   "execution_count": 68,
   "metadata": {},
   "outputs": [],
   "source": [
    "predicted = lr.predict(X_test)"
   ]
  },
  {
   "cell_type": "code",
   "execution_count": 71,
   "metadata": {
    "scrolled": true
   },
   "outputs": [
    {
     "name": "stdout",
     "output_type": "stream",
     "text": [
      "acc=0.5207\n",
      "micro F1=0.5207, micro P=0.5207, micro R=0.5207\n",
      "macro F1=0.5198, macro P=0.5198, macro R=0.5198\n",
      "\n"
     ]
    }
   ],
   "source": [
    "acc = accuracy_score(predicted, y_test)\n",
    "micro_f1 = f1_score(predicted, y_test, average = 'micro')\n",
    "micro_p = f1_score(predicted, y_test, average = 'micro')\n",
    "micro_r = f1_score(predicted, y_test, average = 'micro')\n",
    "macro_f1 = f1_score(predicted, y_test, average = 'macro')\n",
    "macro_p = f1_score(predicted, y_test, average = 'macro')\n",
    "macro_r = f1_score(predicted, y_test, average = 'macro')\n",
    "print('acc={0:1.4f}'.format(acc))\n",
    "print('micro F1={0:1.4f}, micro P={1:1.4f}, micro R={2:1.4f}'.format(micro_f1, micro_p, micro_r))\n",
    "print('macro F1={0:1.4f}, macro P={1:1.4f}, macro R={2:1.4f}\\n'.format(macro_f1, macro_p, macro_r))\n"
   ]
  },
  {
   "cell_type": "code",
   "execution_count": 72,
   "metadata": {},
   "outputs": [
    {
     "data": {
      "text/plain": [
       "LinearSVC(C=1.0, class_weight=None, dual=True, fit_intercept=True,\n",
       "     intercept_scaling=1, loss='squared_hinge', max_iter=1000,\n",
       "     multi_class='ovr', penalty='l2', random_state=None, tol=0.0001,\n",
       "     verbose=0)"
      ]
     },
     "execution_count": 72,
     "metadata": {},
     "output_type": "execute_result"
    }
   ],
   "source": [
    "svc.fit(X_train, y_train)"
   ]
  },
  {
   "cell_type": "code",
   "execution_count": 73,
   "metadata": {},
   "outputs": [],
   "source": [
    "predicted = svc.predict(X_test)"
   ]
  },
  {
   "cell_type": "code",
   "execution_count": 74,
   "metadata": {},
   "outputs": [
    {
     "name": "stdout",
     "output_type": "stream",
     "text": [
      "acc=0.5372\n",
      "micro F1=0.5372, micro P=0.5372, micro R=0.5372\n",
      "macro F1=0.5333, macro P=0.5333, macro R=0.5333\n",
      "\n"
     ]
    }
   ],
   "source": [
    "acc = accuracy_score(predicted, y_test)\n",
    "micro_f1 = f1_score(predicted, y_test, average = 'micro')\n",
    "micro_p = f1_score(predicted, y_test, average = 'micro')\n",
    "micro_r = f1_score(predicted, y_test, average = 'micro')\n",
    "macro_f1 = f1_score(predicted, y_test, average = 'macro')\n",
    "macro_p = f1_score(predicted, y_test, average = 'macro')\n",
    "macro_r = f1_score(predicted, y_test, average = 'macro')\n",
    "print('acc={0:1.4f}'.format(acc))\n",
    "print('micro F1={0:1.4f}, micro P={1:1.4f}, micro R={2:1.4f}'.format(micro_f1, micro_p, micro_r))\n",
    "print('macro F1={0:1.4f}, macro P={1:1.4f}, macro R={2:1.4f}\\n'.format(macro_f1, macro_p, macro_r))\n"
   ]
  },
  {
   "cell_type": "code",
   "execution_count": 75,
   "metadata": {},
   "outputs": [
    {
     "data": {
      "text/plain": [
       "RandomForestClassifier(bootstrap=True, class_weight=None, criterion='gini',\n",
       "            max_depth=None, max_features='auto', max_leaf_nodes=None,\n",
       "            min_impurity_decrease=0.0, min_impurity_split=None,\n",
       "            min_samples_leaf=1, min_samples_split=2,\n",
       "            min_weight_fraction_leaf=0.0, n_estimators=1000, n_jobs=1,\n",
       "            oob_score=False, random_state=None, verbose=0,\n",
       "            warm_start=False)"
      ]
     },
     "execution_count": 75,
     "metadata": {},
     "output_type": "execute_result"
    }
   ],
   "source": [
    "rfc.fit(X_train, y_train)"
   ]
  },
  {
   "cell_type": "code",
   "execution_count": 76,
   "metadata": {},
   "outputs": [],
   "source": [
    "predicted = rfc.predict(X_test)"
   ]
  },
  {
   "cell_type": "code",
   "execution_count": 77,
   "metadata": {
    "scrolled": true
   },
   "outputs": [
    {
     "name": "stdout",
     "output_type": "stream",
     "text": [
      "acc=0.5124\n",
      "micro F1=0.5124, micro P=0.5124, micro R=0.5124\n",
      "macro F1=0.4924, macro P=0.4924, macro R=0.4924\n",
      "\n"
     ]
    }
   ],
   "source": [
    "acc = accuracy_score(predicted, y_test)\n",
    "micro_f1 = f1_score(predicted, y_test, average = 'micro')\n",
    "micro_p = f1_score(predicted, y_test, average = 'micro')\n",
    "micro_r = f1_score(predicted, y_test, average = 'micro')\n",
    "macro_f1 = f1_score(predicted, y_test, average = 'macro')\n",
    "macro_p = f1_score(predicted, y_test, average = 'macro')\n",
    "macro_r = f1_score(predicted, y_test, average = 'macro')\n",
    "print('acc={0:1.4f}'.format(acc))\n",
    "print('micro F1={0:1.4f}, micro P={1:1.4f}, micro R={2:1.4f}'.format(micro_f1, micro_p, micro_r))\n",
    "print('macro F1={0:1.4f}, macro P={1:1.4f}, macro R={2:1.4f}\\n'.format(macro_f1, macro_p, macro_r))\n"
   ]
  },
  {
   "cell_type": "code",
   "execution_count": 78,
   "metadata": {},
   "outputs": [],
   "source": [
    "from sklearn.decomposition import PCA"
   ]
  },
  {
   "cell_type": "code",
   "execution_count": 81,
   "metadata": {},
   "outputs": [],
   "source": [
    "pca = PCA(n_components=500)"
   ]
  },
  {
   "cell_type": "code",
   "execution_count": 82,
   "metadata": {},
   "outputs": [
    {
     "data": {
      "text/plain": [
       "PCA(copy=True, iterated_power='auto', n_components=500, random_state=None,\n",
       "  svd_solver='auto', tol=0.0, whiten=False)"
      ]
     },
     "execution_count": 82,
     "metadata": {},
     "output_type": "execute_result"
    }
   ],
   "source": [
    "pca.fit(data)"
   ]
  },
  {
   "cell_type": "code",
   "execution_count": 88,
   "metadata": {},
   "outputs": [],
   "source": [
    "data2 = pca.fit_transform(data)"
   ]
  },
  {
   "cell_type": "code",
   "execution_count": 89,
   "metadata": {},
   "outputs": [],
   "source": [
    "X_train, X_test, y_train, y_test = train_test_split(data2, price, test_size = 0.1)"
   ]
  },
  {
   "cell_type": "code",
   "execution_count": 90,
   "metadata": {},
   "outputs": [],
   "source": [
    "lr = LogisticRegression()\n",
    "svc = LinearSVC(C=1.0)\n",
    "rfc = RandomForestClassifier(n_estimators=1000)"
   ]
  },
  {
   "cell_type": "code",
   "execution_count": 91,
   "metadata": {},
   "outputs": [
    {
     "data": {
      "text/plain": [
       "LogisticRegression(C=1.0, class_weight=None, dual=False, fit_intercept=True,\n",
       "          intercept_scaling=1, max_iter=100, multi_class='ovr', n_jobs=1,\n",
       "          penalty='l2', random_state=None, solver='liblinear', tol=0.0001,\n",
       "          verbose=0, warm_start=False)"
      ]
     },
     "execution_count": 91,
     "metadata": {},
     "output_type": "execute_result"
    }
   ],
   "source": [
    "lr.fit(X_train, y_train)"
   ]
  },
  {
   "cell_type": "code",
   "execution_count": 92,
   "metadata": {},
   "outputs": [],
   "source": [
    "predicted = lr.predict(X_test)"
   ]
  },
  {
   "cell_type": "code",
   "execution_count": 93,
   "metadata": {
    "scrolled": true
   },
   "outputs": [
    {
     "name": "stdout",
     "output_type": "stream",
     "text": [
      "acc=0.4711\n",
      "micro F1=0.4711, micro P=0.4711, micro R=0.4711\n",
      "macro F1=0.4702, macro P=0.4702, macro R=0.4702\n",
      "\n"
     ]
    }
   ],
   "source": [
    "acc = accuracy_score(predicted, y_test)\n",
    "micro_f1 = f1_score(predicted, y_test, average = 'micro')\n",
    "micro_p = f1_score(predicted, y_test, average = 'micro')\n",
    "micro_r = f1_score(predicted, y_test, average = 'micro')\n",
    "macro_f1 = f1_score(predicted, y_test, average = 'macro')\n",
    "macro_p = f1_score(predicted, y_test, average = 'macro')\n",
    "macro_r = f1_score(predicted, y_test, average = 'macro')\n",
    "print('acc={0:1.4f}'.format(acc))\n",
    "print('micro F1={0:1.4f}, micro P={1:1.4f}, micro R={2:1.4f}'.format(micro_f1, micro_p, micro_r))\n",
    "print('macro F1={0:1.4f}, macro P={1:1.4f}, macro R={2:1.4f}\\n'.format(macro_f1, macro_p, macro_r))\n"
   ]
  },
  {
   "cell_type": "code",
   "execution_count": 94,
   "metadata": {},
   "outputs": [
    {
     "data": {
      "text/plain": [
       "LinearSVC(C=1.0, class_weight=None, dual=True, fit_intercept=True,\n",
       "     intercept_scaling=1, loss='squared_hinge', max_iter=1000,\n",
       "     multi_class='ovr', penalty='l2', random_state=None, tol=0.0001,\n",
       "     verbose=0)"
      ]
     },
     "execution_count": 94,
     "metadata": {},
     "output_type": "execute_result"
    }
   ],
   "source": [
    "svc.fit(X_train, y_train)"
   ]
  },
  {
   "cell_type": "code",
   "execution_count": 95,
   "metadata": {},
   "outputs": [],
   "source": [
    "predicted = svc.predict(X_test)"
   ]
  },
  {
   "cell_type": "code",
   "execution_count": 96,
   "metadata": {},
   "outputs": [
    {
     "name": "stdout",
     "output_type": "stream",
     "text": [
      "acc=0.4545\n",
      "micro F1=0.4545, micro P=0.4545, micro R=0.4545\n",
      "macro F1=0.4515, macro P=0.4515, macro R=0.4515\n",
      "\n"
     ]
    }
   ],
   "source": [
    "acc = accuracy_score(predicted, y_test)\n",
    "micro_f1 = f1_score(predicted, y_test, average = 'micro')\n",
    "micro_p = f1_score(predicted, y_test, average = 'micro')\n",
    "micro_r = f1_score(predicted, y_test, average = 'micro')\n",
    "macro_f1 = f1_score(predicted, y_test, average = 'macro')\n",
    "macro_p = f1_score(predicted, y_test, average = 'macro')\n",
    "macro_r = f1_score(predicted, y_test, average = 'macro')\n",
    "print('acc={0:1.4f}'.format(acc))\n",
    "print('micro F1={0:1.4f}, micro P={1:1.4f}, micro R={2:1.4f}'.format(micro_f1, micro_p, micro_r))\n",
    "print('macro F1={0:1.4f}, macro P={1:1.4f}, macro R={2:1.4f}\\n'.format(macro_f1, macro_p, macro_r))\n"
   ]
  },
  {
   "cell_type": "code",
   "execution_count": 97,
   "metadata": {},
   "outputs": [
    {
     "data": {
      "text/plain": [
       "RandomForestClassifier(bootstrap=True, class_weight=None, criterion='gini',\n",
       "            max_depth=None, max_features='auto', max_leaf_nodes=None,\n",
       "            min_impurity_decrease=0.0, min_impurity_split=None,\n",
       "            min_samples_leaf=1, min_samples_split=2,\n",
       "            min_weight_fraction_leaf=0.0, n_estimators=1000, n_jobs=1,\n",
       "            oob_score=False, random_state=None, verbose=0,\n",
       "            warm_start=False)"
      ]
     },
     "execution_count": 97,
     "metadata": {},
     "output_type": "execute_result"
    }
   ],
   "source": [
    "rfc.fit(X_train, y_train)"
   ]
  },
  {
   "cell_type": "code",
   "execution_count": 98,
   "metadata": {},
   "outputs": [],
   "source": [
    "predicted = rfc.predict(X_test)"
   ]
  },
  {
   "cell_type": "code",
   "execution_count": 99,
   "metadata": {
    "scrolled": true
   },
   "outputs": [
    {
     "name": "stdout",
     "output_type": "stream",
     "text": [
      "acc=0.4793\n",
      "micro F1=0.4793, micro P=0.4793, micro R=0.4793\n",
      "macro F1=0.4758, macro P=0.4758, macro R=0.4758\n",
      "\n"
     ]
    }
   ],
   "source": [
    "acc = accuracy_score(predicted, y_test)\n",
    "micro_f1 = f1_score(predicted, y_test, average = 'micro')\n",
    "micro_p = f1_score(predicted, y_test, average = 'micro')\n",
    "micro_r = f1_score(predicted, y_test, average = 'micro')\n",
    "macro_f1 = f1_score(predicted, y_test, average = 'macro')\n",
    "macro_p = f1_score(predicted, y_test, average = 'macro')\n",
    "macro_r = f1_score(predicted, y_test, average = 'macro')\n",
    "print('acc={0:1.4f}'.format(acc))\n",
    "print('micro F1={0:1.4f}, micro P={1:1.4f}, micro R={2:1.4f}'.format(micro_f1, micro_p, micro_r))\n",
    "print('macro F1={0:1.4f}, macro P={1:1.4f}, macro R={2:1.4f}\\n'.format(macro_f1, macro_p, macro_r))\n"
   ]
  },
  {
   "cell_type": "code",
   "execution_count": 100,
   "metadata": {},
   "outputs": [],
   "source": [
    "from sklearn.feature_extraction.text import TfidfTransformer"
   ]
  },
  {
   "cell_type": "code",
   "execution_count": 101,
   "metadata": {},
   "outputs": [],
   "source": [
    "tfidf = TfidfTransformer()"
   ]
  },
  {
   "cell_type": "code",
   "execution_count": 104,
   "metadata": {
    "scrolled": true
   },
   "outputs": [
    {
     "data": {
      "text/plain": [
       "TfidfTransformer(norm='l2', smooth_idf=True, sublinear_tf=False, use_idf=True)"
      ]
     },
     "execution_count": 104,
     "metadata": {},
     "output_type": "execute_result"
    }
   ],
   "source": [
    "tfidf.fit(data)"
   ]
  },
  {
   "cell_type": "code",
   "execution_count": 107,
   "metadata": {},
   "outputs": [],
   "source": [
    "data3 = data"
   ]
  },
  {
   "cell_type": "code",
   "execution_count": 110,
   "metadata": {},
   "outputs": [],
   "source": [
    "data3 = tfidf.fit_transform(data3)"
   ]
  },
  {
   "cell_type": "code",
   "execution_count": 112,
   "metadata": {
    "scrolled": true
   },
   "outputs": [
    {
     "data": {
      "text/plain": [
       "<1202x4435 sparse matrix of type '<class 'numpy.float64'>'\n",
       "\twith 52187 stored elements in Compressed Sparse Row format>"
      ]
     },
     "execution_count": 112,
     "metadata": {},
     "output_type": "execute_result"
    }
   ],
   "source": [
    "data3"
   ]
  },
  {
   "cell_type": "code",
   "execution_count": 113,
   "metadata": {},
   "outputs": [],
   "source": [
    "X_train, X_test, y_train, y_test = train_test_split(data3, price, test_size = 0.1)"
   ]
  },
  {
   "cell_type": "code",
   "execution_count": 114,
   "metadata": {},
   "outputs": [],
   "source": [
    "lr = LogisticRegression()\n",
    "svc = LinearSVC(C=1.0)\n",
    "rfc = RandomForestClassifier(n_estimators=1000)"
   ]
  },
  {
   "cell_type": "code",
   "execution_count": 115,
   "metadata": {},
   "outputs": [
    {
     "data": {
      "text/plain": [
       "LogisticRegression(C=1.0, class_weight=None, dual=False, fit_intercept=True,\n",
       "          intercept_scaling=1, max_iter=100, multi_class='ovr', n_jobs=1,\n",
       "          penalty='l2', random_state=None, solver='liblinear', tol=0.0001,\n",
       "          verbose=0, warm_start=False)"
      ]
     },
     "execution_count": 115,
     "metadata": {},
     "output_type": "execute_result"
    }
   ],
   "source": [
    "lr.fit(X_train, y_train)"
   ]
  },
  {
   "cell_type": "code",
   "execution_count": 116,
   "metadata": {},
   "outputs": [],
   "source": [
    "predicted = lr.predict(X_test)"
   ]
  },
  {
   "cell_type": "code",
   "execution_count": 117,
   "metadata": {
    "scrolled": true
   },
   "outputs": [
    {
     "name": "stdout",
     "output_type": "stream",
     "text": [
      "acc=0.5124\n",
      "micro F1=0.5124, micro P=0.5124, micro R=0.5124\n",
      "macro F1=0.5058, macro P=0.5058, macro R=0.5058\n",
      "\n"
     ]
    }
   ],
   "source": [
    "acc = accuracy_score(predicted, y_test)\n",
    "micro_f1 = f1_score(predicted, y_test, average = 'micro')\n",
    "micro_p = f1_score(predicted, y_test, average = 'micro')\n",
    "micro_r = f1_score(predicted, y_test, average = 'micro')\n",
    "macro_f1 = f1_score(predicted, y_test, average = 'macro')\n",
    "macro_p = f1_score(predicted, y_test, average = 'macro')\n",
    "macro_r = f1_score(predicted, y_test, average = 'macro')\n",
    "print('acc={0:1.4f}'.format(acc))\n",
    "print('micro F1={0:1.4f}, micro P={1:1.4f}, micro R={2:1.4f}'.format(micro_f1, micro_p, micro_r))\n",
    "print('macro F1={0:1.4f}, macro P={1:1.4f}, macro R={2:1.4f}\\n'.format(macro_f1, macro_p, macro_r))\n"
   ]
  },
  {
   "cell_type": "code",
   "execution_count": 118,
   "metadata": {},
   "outputs": [
    {
     "data": {
      "text/plain": [
       "LinearSVC(C=1.0, class_weight=None, dual=True, fit_intercept=True,\n",
       "     intercept_scaling=1, loss='squared_hinge', max_iter=1000,\n",
       "     multi_class='ovr', penalty='l2', random_state=None, tol=0.0001,\n",
       "     verbose=0)"
      ]
     },
     "execution_count": 118,
     "metadata": {},
     "output_type": "execute_result"
    }
   ],
   "source": [
    "svc.fit(X_train, y_train)"
   ]
  },
  {
   "cell_type": "code",
   "execution_count": 119,
   "metadata": {},
   "outputs": [],
   "source": [
    "predicted = svc.predict(X_test)"
   ]
  },
  {
   "cell_type": "code",
   "execution_count": 120,
   "metadata": {},
   "outputs": [
    {
     "name": "stdout",
     "output_type": "stream",
     "text": [
      "acc=0.4876\n",
      "micro F1=0.4876, micro P=0.4876, micro R=0.4876\n",
      "macro F1=0.4859, macro P=0.4859, macro R=0.4859\n",
      "\n"
     ]
    }
   ],
   "source": [
    "acc = accuracy_score(predicted, y_test)\n",
    "micro_f1 = f1_score(predicted, y_test, average = 'micro')\n",
    "micro_p = f1_score(predicted, y_test, average = 'micro')\n",
    "micro_r = f1_score(predicted, y_test, average = 'micro')\n",
    "macro_f1 = f1_score(predicted, y_test, average = 'macro')\n",
    "macro_p = f1_score(predicted, y_test, average = 'macro')\n",
    "macro_r = f1_score(predicted, y_test, average = 'macro')\n",
    "print('acc={0:1.4f}'.format(acc))\n",
    "print('micro F1={0:1.4f}, micro P={1:1.4f}, micro R={2:1.4f}'.format(micro_f1, micro_p, micro_r))\n",
    "print('macro F1={0:1.4f}, macro P={1:1.4f}, macro R={2:1.4f}\\n'.format(macro_f1, macro_p, macro_r))\n"
   ]
  }
 ],
 "metadata": {
  "anaconda-cloud": {},
  "kernelspec": {
   "display_name": "Python [default]",
   "language": "python",
   "name": "python3"
  },
  "language_info": {
   "codemirror_mode": {
    "name": "ipython",
    "version": 3
   },
   "file_extension": ".py",
   "mimetype": "text/x-python",
   "name": "python",
   "nbconvert_exporter": "python",
   "pygments_lexer": "ipython3",
   "version": "3.5.2"
  }
 },
 "nbformat": 4,
 "nbformat_minor": 2
}
